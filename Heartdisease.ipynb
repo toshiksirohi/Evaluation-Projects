{
 "cells": [
  {
   "cell_type": "markdown",
   "metadata": {},
   "source": [
    "# Heart Disease Data Set"
   ]
  },
  {
   "cell_type": "markdown",
   "metadata": {},
   "source": [
    "# Data Set Information:"
   ]
  },
  {
   "cell_type": "markdown",
   "metadata": {},
   "source": [
    "This database contains 14 attributes . In particular, the Cleveland database is the only one that has been used by ML researchers to this date. The \"goal\" field refers to the presence of heart disease in the patient. It is integer valued from 0 (no presence) to 4. Experiments with the Cleveland database have concentrated on simply attempting to distinguish presence (values 1,2,3,4) from absence (value 0).\n",
    "Only 14 attributes used:\n",
    "#3 (age)\n",
    "#4 (sex)sex: sex (1 = male; 0 = female)\n",
    "#9 (cp)\n",
    "#10 (trestbps)\n",
    "#12 (chol)\n",
    "#16 (fbs)\n",
    "#19 (restecg)\n",
    "#32 (thalach)\n",
    "#38 (exang)\n",
    "#40 (oldpeak)\n",
    "#41 (slope)\n",
    "#44 (ca)\n",
    "#51 (thal)\n",
    "#58 (num) (the predicted attribute)"
   ]
  },
  {
   "cell_type": "code",
   "execution_count": 303,
   "metadata": {},
   "outputs": [],
   "source": [
    "#Imporing all the Required Libraries.\n",
    "\n",
    "import pandas as pd\n",
    "import numpy as np\n",
    "import matplotlib.pyplot as plt\n",
    "import seaborn as sns\n",
    "import warnings\n",
    "warnings.filterwarnings('ignore')"
   ]
  },
  {
   "cell_type": "code",
   "execution_count": 304,
   "metadata": {},
   "outputs": [
    {
     "data": {
      "text/html": [
       "<div>\n",
       "<style scoped>\n",
       "    .dataframe tbody tr th:only-of-type {\n",
       "        vertical-align: middle;\n",
       "    }\n",
       "\n",
       "    .dataframe tbody tr th {\n",
       "        vertical-align: top;\n",
       "    }\n",
       "\n",
       "    .dataframe thead th {\n",
       "        text-align: right;\n",
       "    }\n",
       "</style>\n",
       "<table border=\"1\" class=\"dataframe\">\n",
       "  <thead>\n",
       "    <tr style=\"text-align: right;\">\n",
       "      <th></th>\n",
       "      <th>0</th>\n",
       "      <th>1</th>\n",
       "      <th>2</th>\n",
       "      <th>3</th>\n",
       "      <th>4</th>\n",
       "      <th>5</th>\n",
       "      <th>6</th>\n",
       "      <th>7</th>\n",
       "      <th>8</th>\n",
       "      <th>9</th>\n",
       "      <th>10</th>\n",
       "      <th>11</th>\n",
       "      <th>12</th>\n",
       "      <th>13</th>\n",
       "    </tr>\n",
       "  </thead>\n",
       "  <tbody>\n",
       "    <tr>\n",
       "      <th>0</th>\n",
       "      <td>63</td>\n",
       "      <td>1</td>\n",
       "      <td>4</td>\n",
       "      <td>140</td>\n",
       "      <td>260</td>\n",
       "      <td>0</td>\n",
       "      <td>1</td>\n",
       "      <td>112</td>\n",
       "      <td>1</td>\n",
       "      <td>3</td>\n",
       "      <td>2</td>\n",
       "      <td>?</td>\n",
       "      <td>?</td>\n",
       "      <td>2</td>\n",
       "    </tr>\n",
       "    <tr>\n",
       "      <th>1</th>\n",
       "      <td>44</td>\n",
       "      <td>1</td>\n",
       "      <td>4</td>\n",
       "      <td>130</td>\n",
       "      <td>209</td>\n",
       "      <td>0</td>\n",
       "      <td>1</td>\n",
       "      <td>127</td>\n",
       "      <td>0</td>\n",
       "      <td>0</td>\n",
       "      <td>?</td>\n",
       "      <td>?</td>\n",
       "      <td>?</td>\n",
       "      <td>0</td>\n",
       "    </tr>\n",
       "    <tr>\n",
       "      <th>2</th>\n",
       "      <td>60</td>\n",
       "      <td>1</td>\n",
       "      <td>4</td>\n",
       "      <td>132</td>\n",
       "      <td>218</td>\n",
       "      <td>0</td>\n",
       "      <td>1</td>\n",
       "      <td>140</td>\n",
       "      <td>1</td>\n",
       "      <td>1.5</td>\n",
       "      <td>3</td>\n",
       "      <td>?</td>\n",
       "      <td>?</td>\n",
       "      <td>2</td>\n",
       "    </tr>\n",
       "    <tr>\n",
       "      <th>3</th>\n",
       "      <td>55</td>\n",
       "      <td>1</td>\n",
       "      <td>4</td>\n",
       "      <td>142</td>\n",
       "      <td>228</td>\n",
       "      <td>0</td>\n",
       "      <td>1</td>\n",
       "      <td>149</td>\n",
       "      <td>1</td>\n",
       "      <td>2.5</td>\n",
       "      <td>1</td>\n",
       "      <td>?</td>\n",
       "      <td>?</td>\n",
       "      <td>1</td>\n",
       "    </tr>\n",
       "    <tr>\n",
       "      <th>4</th>\n",
       "      <td>66</td>\n",
       "      <td>1</td>\n",
       "      <td>3</td>\n",
       "      <td>110</td>\n",
       "      <td>213</td>\n",
       "      <td>1</td>\n",
       "      <td>2</td>\n",
       "      <td>99</td>\n",
       "      <td>1</td>\n",
       "      <td>1.3</td>\n",
       "      <td>2</td>\n",
       "      <td>?</td>\n",
       "      <td>?</td>\n",
       "      <td>0</td>\n",
       "    </tr>\n",
       "    <tr>\n",
       "      <th>...</th>\n",
       "      <td>...</td>\n",
       "      <td>...</td>\n",
       "      <td>...</td>\n",
       "      <td>...</td>\n",
       "      <td>...</td>\n",
       "      <td>...</td>\n",
       "      <td>...</td>\n",
       "      <td>...</td>\n",
       "      <td>...</td>\n",
       "      <td>...</td>\n",
       "      <td>...</td>\n",
       "      <td>...</td>\n",
       "      <td>...</td>\n",
       "      <td>...</td>\n",
       "    </tr>\n",
       "    <tr>\n",
       "      <th>195</th>\n",
       "      <td>54</td>\n",
       "      <td>0</td>\n",
       "      <td>4</td>\n",
       "      <td>127</td>\n",
       "      <td>333</td>\n",
       "      <td>1</td>\n",
       "      <td>1</td>\n",
       "      <td>154</td>\n",
       "      <td>0</td>\n",
       "      <td>0</td>\n",
       "      <td>?</td>\n",
       "      <td>?</td>\n",
       "      <td>?</td>\n",
       "      <td>1</td>\n",
       "    </tr>\n",
       "    <tr>\n",
       "      <th>196</th>\n",
       "      <td>62</td>\n",
       "      <td>1</td>\n",
       "      <td>1</td>\n",
       "      <td>?</td>\n",
       "      <td>139</td>\n",
       "      <td>0</td>\n",
       "      <td>1</td>\n",
       "      <td>?</td>\n",
       "      <td>?</td>\n",
       "      <td>?</td>\n",
       "      <td>?</td>\n",
       "      <td>?</td>\n",
       "      <td>?</td>\n",
       "      <td>0</td>\n",
       "    </tr>\n",
       "    <tr>\n",
       "      <th>197</th>\n",
       "      <td>55</td>\n",
       "      <td>1</td>\n",
       "      <td>4</td>\n",
       "      <td>122</td>\n",
       "      <td>223</td>\n",
       "      <td>1</td>\n",
       "      <td>1</td>\n",
       "      <td>100</td>\n",
       "      <td>0</td>\n",
       "      <td>0</td>\n",
       "      <td>?</td>\n",
       "      <td>?</td>\n",
       "      <td>6</td>\n",
       "      <td>2</td>\n",
       "    </tr>\n",
       "    <tr>\n",
       "      <th>198</th>\n",
       "      <td>58</td>\n",
       "      <td>1</td>\n",
       "      <td>4</td>\n",
       "      <td>?</td>\n",
       "      <td>385</td>\n",
       "      <td>1</td>\n",
       "      <td>2</td>\n",
       "      <td>?</td>\n",
       "      <td>?</td>\n",
       "      <td>?</td>\n",
       "      <td>?</td>\n",
       "      <td>?</td>\n",
       "      <td>?</td>\n",
       "      <td>0</td>\n",
       "    </tr>\n",
       "    <tr>\n",
       "      <th>199</th>\n",
       "      <td>62</td>\n",
       "      <td>1</td>\n",
       "      <td>2</td>\n",
       "      <td>120</td>\n",
       "      <td>254</td>\n",
       "      <td>0</td>\n",
       "      <td>2</td>\n",
       "      <td>93</td>\n",
       "      <td>1</td>\n",
       "      <td>0</td>\n",
       "      <td>?</td>\n",
       "      <td>?</td>\n",
       "      <td>?</td>\n",
       "      <td>1</td>\n",
       "    </tr>\n",
       "  </tbody>\n",
       "</table>\n",
       "<p>200 rows × 14 columns</p>\n",
       "</div>"
      ],
      "text/plain": [
       "     0   1   2    3    4  5   6    7  8    9  10 11 12  13\n",
       "0    63   1   4  140  260  0   1  112  1    3  2  ?  ?   2\n",
       "1    44   1   4  130  209  0   1  127  0    0  ?  ?  ?   0\n",
       "2    60   1   4  132  218  0   1  140  1  1.5  3  ?  ?   2\n",
       "3    55   1   4  142  228  0   1  149  1  2.5  1  ?  ?   1\n",
       "4    66   1   3  110  213  1   2   99  1  1.3  2  ?  ?   0\n",
       "..   ..  ..  ..  ...  ... ..  ..  ... ..  ... .. .. ..  ..\n",
       "195  54   0   4  127  333  1   1  154  0    0  ?  ?  ?   1\n",
       "196  62   1   1    ?  139  0   1    ?  ?    ?  ?  ?  ?   0\n",
       "197  55   1   4  122  223  1   1  100  0    0  ?  ?  6   2\n",
       "198  58   1   4    ?  385  1   2    ?  ?    ?  ?  ?  ?   0\n",
       "199  62   1   2  120  254  0   2   93  1    0  ?  ?  ?   1\n",
       "\n",
       "[200 rows x 14 columns]"
      ]
     },
     "execution_count": 304,
     "metadata": {},
     "output_type": "execute_result"
    }
   ],
   "source": [
    "#Uploading Dataset\n",
    "df=pd.read_csv('heartdisease_data.csv',header=None)\n",
    "df"
   ]
  },
  {
   "cell_type": "code",
   "execution_count": 305,
   "metadata": {},
   "outputs": [
    {
     "data": {
      "text/html": [
       "<div>\n",
       "<style scoped>\n",
       "    .dataframe tbody tr th:only-of-type {\n",
       "        vertical-align: middle;\n",
       "    }\n",
       "\n",
       "    .dataframe tbody tr th {\n",
       "        vertical-align: top;\n",
       "    }\n",
       "\n",
       "    .dataframe thead th {\n",
       "        text-align: right;\n",
       "    }\n",
       "</style>\n",
       "<table border=\"1\" class=\"dataframe\">\n",
       "  <thead>\n",
       "    <tr style=\"text-align: right;\">\n",
       "      <th></th>\n",
       "      <th>age</th>\n",
       "      <th>sex</th>\n",
       "      <th>cp</th>\n",
       "      <th>trestbps</th>\n",
       "      <th>chol</th>\n",
       "      <th>fbs</th>\n",
       "      <th>restecg</th>\n",
       "      <th>thalach</th>\n",
       "      <th>exang</th>\n",
       "      <th>oldpeak</th>\n",
       "      <th>slope</th>\n",
       "      <th>ca</th>\n",
       "      <th>thal</th>\n",
       "      <th>Target</th>\n",
       "    </tr>\n",
       "  </thead>\n",
       "  <tbody>\n",
       "    <tr>\n",
       "      <th>0</th>\n",
       "      <td>63</td>\n",
       "      <td>1</td>\n",
       "      <td>4</td>\n",
       "      <td>140</td>\n",
       "      <td>260</td>\n",
       "      <td>0</td>\n",
       "      <td>1</td>\n",
       "      <td>112</td>\n",
       "      <td>1</td>\n",
       "      <td>3</td>\n",
       "      <td>2</td>\n",
       "      <td>?</td>\n",
       "      <td>?</td>\n",
       "      <td>2</td>\n",
       "    </tr>\n",
       "    <tr>\n",
       "      <th>1</th>\n",
       "      <td>44</td>\n",
       "      <td>1</td>\n",
       "      <td>4</td>\n",
       "      <td>130</td>\n",
       "      <td>209</td>\n",
       "      <td>0</td>\n",
       "      <td>1</td>\n",
       "      <td>127</td>\n",
       "      <td>0</td>\n",
       "      <td>0</td>\n",
       "      <td>?</td>\n",
       "      <td>?</td>\n",
       "      <td>?</td>\n",
       "      <td>0</td>\n",
       "    </tr>\n",
       "    <tr>\n",
       "      <th>2</th>\n",
       "      <td>60</td>\n",
       "      <td>1</td>\n",
       "      <td>4</td>\n",
       "      <td>132</td>\n",
       "      <td>218</td>\n",
       "      <td>0</td>\n",
       "      <td>1</td>\n",
       "      <td>140</td>\n",
       "      <td>1</td>\n",
       "      <td>1.5</td>\n",
       "      <td>3</td>\n",
       "      <td>?</td>\n",
       "      <td>?</td>\n",
       "      <td>2</td>\n",
       "    </tr>\n",
       "    <tr>\n",
       "      <th>3</th>\n",
       "      <td>55</td>\n",
       "      <td>1</td>\n",
       "      <td>4</td>\n",
       "      <td>142</td>\n",
       "      <td>228</td>\n",
       "      <td>0</td>\n",
       "      <td>1</td>\n",
       "      <td>149</td>\n",
       "      <td>1</td>\n",
       "      <td>2.5</td>\n",
       "      <td>1</td>\n",
       "      <td>?</td>\n",
       "      <td>?</td>\n",
       "      <td>1</td>\n",
       "    </tr>\n",
       "    <tr>\n",
       "      <th>4</th>\n",
       "      <td>66</td>\n",
       "      <td>1</td>\n",
       "      <td>3</td>\n",
       "      <td>110</td>\n",
       "      <td>213</td>\n",
       "      <td>1</td>\n",
       "      <td>2</td>\n",
       "      <td>99</td>\n",
       "      <td>1</td>\n",
       "      <td>1.3</td>\n",
       "      <td>2</td>\n",
       "      <td>?</td>\n",
       "      <td>?</td>\n",
       "      <td>0</td>\n",
       "    </tr>\n",
       "  </tbody>\n",
       "</table>\n",
       "</div>"
      ],
      "text/plain": [
       "   age  sex  cp trestbps chol fbs  restecg thalach exang oldpeak slope ca  \\\n",
       "0   63    1   4      140  260   0        1     112     1       3     2  ?   \n",
       "1   44    1   4      130  209   0        1     127     0       0     ?  ?   \n",
       "2   60    1   4      132  218   0        1     140     1     1.5     3  ?   \n",
       "3   55    1   4      142  228   0        1     149     1     2.5     1  ?   \n",
       "4   66    1   3      110  213   1        2      99     1     1.3     2  ?   \n",
       "\n",
       "  thal  Target  \n",
       "0    ?       2  \n",
       "1    ?       0  \n",
       "2    ?       2  \n",
       "3    ?       1  \n",
       "4    ?       0  "
      ]
     },
     "execution_count": 305,
     "metadata": {},
     "output_type": "execute_result"
    }
   ],
   "source": [
    "#Give columns suitable names as per data information.\n",
    "df.columns = ['age','sex','cp','trestbps','chol','fbs','restecg',\n",
    "              'thalach','exang','oldpeak','slope','ca','thal','Target']\n",
    "df.head()\n",
    "\n"
   ]
  },
  {
   "cell_type": "code",
   "execution_count": 306,
   "metadata": {},
   "outputs": [
    {
     "data": {
      "text/plain": [
       "False"
      ]
     },
     "execution_count": 306,
     "metadata": {},
     "output_type": "execute_result"
    }
   ],
   "source": [
    "df.isnull().values.any()"
   ]
  },
  {
   "cell_type": "markdown",
   "metadata": {},
   "source": [
    "By looking at the above data we can say there are alot of \"?\" values present in our data which are actually \"NAN\" values.Lets replace them by \"NAN\""
   ]
  },
  {
   "cell_type": "code",
   "execution_count": 307,
   "metadata": {},
   "outputs": [
    {
     "data": {
      "text/html": [
       "<div>\n",
       "<style scoped>\n",
       "    .dataframe tbody tr th:only-of-type {\n",
       "        vertical-align: middle;\n",
       "    }\n",
       "\n",
       "    .dataframe tbody tr th {\n",
       "        vertical-align: top;\n",
       "    }\n",
       "\n",
       "    .dataframe thead th {\n",
       "        text-align: right;\n",
       "    }\n",
       "</style>\n",
       "<table border=\"1\" class=\"dataframe\">\n",
       "  <thead>\n",
       "    <tr style=\"text-align: right;\">\n",
       "      <th></th>\n",
       "      <th>age</th>\n",
       "      <th>sex</th>\n",
       "      <th>cp</th>\n",
       "      <th>trestbps</th>\n",
       "      <th>chol</th>\n",
       "      <th>fbs</th>\n",
       "      <th>restecg</th>\n",
       "      <th>thalach</th>\n",
       "      <th>exang</th>\n",
       "      <th>oldpeak</th>\n",
       "      <th>slope</th>\n",
       "      <th>ca</th>\n",
       "      <th>thal</th>\n",
       "      <th>Target</th>\n",
       "    </tr>\n",
       "  </thead>\n",
       "  <tbody>\n",
       "    <tr>\n",
       "      <th>0</th>\n",
       "      <td>63</td>\n",
       "      <td>1</td>\n",
       "      <td>4</td>\n",
       "      <td>140</td>\n",
       "      <td>260</td>\n",
       "      <td>0</td>\n",
       "      <td>1</td>\n",
       "      <td>112</td>\n",
       "      <td>1</td>\n",
       "      <td>3</td>\n",
       "      <td>2</td>\n",
       "      <td>NaN</td>\n",
       "      <td>NaN</td>\n",
       "      <td>2</td>\n",
       "    </tr>\n",
       "    <tr>\n",
       "      <th>1</th>\n",
       "      <td>44</td>\n",
       "      <td>1</td>\n",
       "      <td>4</td>\n",
       "      <td>130</td>\n",
       "      <td>209</td>\n",
       "      <td>0</td>\n",
       "      <td>1</td>\n",
       "      <td>127</td>\n",
       "      <td>0</td>\n",
       "      <td>0</td>\n",
       "      <td>NaN</td>\n",
       "      <td>NaN</td>\n",
       "      <td>NaN</td>\n",
       "      <td>0</td>\n",
       "    </tr>\n",
       "    <tr>\n",
       "      <th>2</th>\n",
       "      <td>60</td>\n",
       "      <td>1</td>\n",
       "      <td>4</td>\n",
       "      <td>132</td>\n",
       "      <td>218</td>\n",
       "      <td>0</td>\n",
       "      <td>1</td>\n",
       "      <td>140</td>\n",
       "      <td>1</td>\n",
       "      <td>1.5</td>\n",
       "      <td>3</td>\n",
       "      <td>NaN</td>\n",
       "      <td>NaN</td>\n",
       "      <td>2</td>\n",
       "    </tr>\n",
       "    <tr>\n",
       "      <th>3</th>\n",
       "      <td>55</td>\n",
       "      <td>1</td>\n",
       "      <td>4</td>\n",
       "      <td>142</td>\n",
       "      <td>228</td>\n",
       "      <td>0</td>\n",
       "      <td>1</td>\n",
       "      <td>149</td>\n",
       "      <td>1</td>\n",
       "      <td>2.5</td>\n",
       "      <td>1</td>\n",
       "      <td>NaN</td>\n",
       "      <td>NaN</td>\n",
       "      <td>1</td>\n",
       "    </tr>\n",
       "    <tr>\n",
       "      <th>4</th>\n",
       "      <td>66</td>\n",
       "      <td>1</td>\n",
       "      <td>3</td>\n",
       "      <td>110</td>\n",
       "      <td>213</td>\n",
       "      <td>1</td>\n",
       "      <td>2</td>\n",
       "      <td>99</td>\n",
       "      <td>1</td>\n",
       "      <td>1.3</td>\n",
       "      <td>2</td>\n",
       "      <td>NaN</td>\n",
       "      <td>NaN</td>\n",
       "      <td>0</td>\n",
       "    </tr>\n",
       "    <tr>\n",
       "      <th>5</th>\n",
       "      <td>66</td>\n",
       "      <td>1</td>\n",
       "      <td>3</td>\n",
       "      <td>120</td>\n",
       "      <td>0</td>\n",
       "      <td>0</td>\n",
       "      <td>1</td>\n",
       "      <td>120</td>\n",
       "      <td>0</td>\n",
       "      <td>-0.5</td>\n",
       "      <td>1</td>\n",
       "      <td>NaN</td>\n",
       "      <td>NaN</td>\n",
       "      <td>0</td>\n",
       "    </tr>\n",
       "    <tr>\n",
       "      <th>6</th>\n",
       "      <td>65</td>\n",
       "      <td>1</td>\n",
       "      <td>4</td>\n",
       "      <td>150</td>\n",
       "      <td>236</td>\n",
       "      <td>1</td>\n",
       "      <td>1</td>\n",
       "      <td>105</td>\n",
       "      <td>1</td>\n",
       "      <td>0</td>\n",
       "      <td>NaN</td>\n",
       "      <td>NaN</td>\n",
       "      <td>NaN</td>\n",
       "      <td>3</td>\n",
       "    </tr>\n",
       "    <tr>\n",
       "      <th>7</th>\n",
       "      <td>60</td>\n",
       "      <td>1</td>\n",
       "      <td>3</td>\n",
       "      <td>180</td>\n",
       "      <td>0</td>\n",
       "      <td>0</td>\n",
       "      <td>1</td>\n",
       "      <td>140</td>\n",
       "      <td>1</td>\n",
       "      <td>1.5</td>\n",
       "      <td>2</td>\n",
       "      <td>NaN</td>\n",
       "      <td>NaN</td>\n",
       "      <td>0</td>\n",
       "    </tr>\n",
       "    <tr>\n",
       "      <th>8</th>\n",
       "      <td>60</td>\n",
       "      <td>1</td>\n",
       "      <td>3</td>\n",
       "      <td>120</td>\n",
       "      <td>0</td>\n",
       "      <td>NaN</td>\n",
       "      <td>0</td>\n",
       "      <td>141</td>\n",
       "      <td>1</td>\n",
       "      <td>2</td>\n",
       "      <td>1</td>\n",
       "      <td>NaN</td>\n",
       "      <td>NaN</td>\n",
       "      <td>3</td>\n",
       "    </tr>\n",
       "    <tr>\n",
       "      <th>9</th>\n",
       "      <td>60</td>\n",
       "      <td>1</td>\n",
       "      <td>2</td>\n",
       "      <td>160</td>\n",
       "      <td>267</td>\n",
       "      <td>1</td>\n",
       "      <td>1</td>\n",
       "      <td>157</td>\n",
       "      <td>0</td>\n",
       "      <td>0.5</td>\n",
       "      <td>2</td>\n",
       "      <td>NaN</td>\n",
       "      <td>NaN</td>\n",
       "      <td>1</td>\n",
       "    </tr>\n",
       "  </tbody>\n",
       "</table>\n",
       "</div>"
      ],
      "text/plain": [
       "   age  sex  cp trestbps chol  fbs  restecg thalach exang oldpeak slope   ca  \\\n",
       "0   63    1   4      140  260    0        1     112     1       3     2  NaN   \n",
       "1   44    1   4      130  209    0        1     127     0       0   NaN  NaN   \n",
       "2   60    1   4      132  218    0        1     140     1     1.5     3  NaN   \n",
       "3   55    1   4      142  228    0        1     149     1     2.5     1  NaN   \n",
       "4   66    1   3      110  213    1        2      99     1     1.3     2  NaN   \n",
       "5   66    1   3      120    0    0        1     120     0    -0.5     1  NaN   \n",
       "6   65    1   4      150  236    1        1     105     1       0   NaN  NaN   \n",
       "7   60    1   3      180    0    0        1     140     1     1.5     2  NaN   \n",
       "8   60    1   3      120    0  NaN        0     141     1       2     1  NaN   \n",
       "9   60    1   2      160  267    1        1     157     0     0.5     2  NaN   \n",
       "\n",
       "  thal  Target  \n",
       "0  NaN       2  \n",
       "1  NaN       0  \n",
       "2  NaN       2  \n",
       "3  NaN       1  \n",
       "4  NaN       0  \n",
       "5  NaN       0  \n",
       "6  NaN       3  \n",
       "7  NaN       0  \n",
       "8  NaN       3  \n",
       "9  NaN       1  "
      ]
     },
     "execution_count": 307,
     "metadata": {},
     "output_type": "execute_result"
    }
   ],
   "source": [
    "df.replace('?',np.nan,inplace=True)\n",
    "df.head(10)"
   ]
  },
  {
   "cell_type": "code",
   "execution_count": 308,
   "metadata": {},
   "outputs": [
    {
     "data": {
      "text/plain": [
       "True"
      ]
     },
     "execution_count": 308,
     "metadata": {},
     "output_type": "execute_result"
    }
   ],
   "source": [
    "df.isnull().values.any()"
   ]
  },
  {
   "cell_type": "code",
   "execution_count": 309,
   "metadata": {},
   "outputs": [
    {
     "data": {
      "text/plain": [
       "age           0\n",
       "sex           0\n",
       "cp            0\n",
       "trestbps     56\n",
       "chol          7\n",
       "fbs           7\n",
       "restecg       0\n",
       "thalach      53\n",
       "exang        53\n",
       "oldpeak      56\n",
       "slope       102\n",
       "ca          198\n",
       "thal        166\n",
       "Target        0\n",
       "dtype: int64"
      ]
     },
     "execution_count": 309,
     "metadata": {},
     "output_type": "execute_result"
    }
   ],
   "source": [
    "# checking for null values\n",
    "df.isnull().sum()"
   ]
  },
  {
   "cell_type": "code",
   "execution_count": 310,
   "metadata": {},
   "outputs": [
    {
     "data": {
      "text/plain": [
       "<matplotlib.axes._subplots.AxesSubplot at 0x7f870fd01a30>"
      ]
     },
     "execution_count": 310,
     "metadata": {},
     "output_type": "execute_result"
    },
    {
     "data": {
      "image/png": "[encoded data removed]",
      "text/plain": [
       "<Figure size 432x288 with 1 Axes>"
      ]
     },
     "metadata": {
      "needs_background": "light"
     },
     "output_type": "display_data"
    }
   ],
   "source": [
    "# heatmap for null values\n",
    "sns.heatmap(df.isnull(),yticklabels=False,cbar=False)"
   ]
  },
  {
   "cell_type": "markdown",
   "metadata": {},
   "source": [
    "We can see count of few column is less for example trestbps,chol etc. but ca and thal columns have a very less count.lets drop them."
   ]
  },
  {
   "cell_type": "code",
   "execution_count": 311,
   "metadata": {},
   "outputs": [
    {
     "data": {
      "text/html": [
       "<div>\n",
       "<style scoped>\n",
       "    .dataframe tbody tr th:only-of-type {\n",
       "        vertical-align: middle;\n",
       "    }\n",
       "\n",
       "    .dataframe tbody tr th {\n",
       "        vertical-align: top;\n",
       "    }\n",
       "\n",
       "    .dataframe thead th {\n",
       "        text-align: right;\n",
       "    }\n",
       "</style>\n",
       "<table border=\"1\" class=\"dataframe\">\n",
       "  <thead>\n",
       "    <tr style=\"text-align: right;\">\n",
       "      <th></th>\n",
       "      <th>age</th>\n",
       "      <th>sex</th>\n",
       "      <th>cp</th>\n",
       "      <th>trestbps</th>\n",
       "      <th>chol</th>\n",
       "      <th>fbs</th>\n",
       "      <th>restecg</th>\n",
       "      <th>thalach</th>\n",
       "      <th>exang</th>\n",
       "      <th>oldpeak</th>\n",
       "      <th>slope</th>\n",
       "      <th>Target</th>\n",
       "    </tr>\n",
       "  </thead>\n",
       "  <tbody>\n",
       "    <tr>\n",
       "      <th>0</th>\n",
       "      <td>63</td>\n",
       "      <td>1</td>\n",
       "      <td>4</td>\n",
       "      <td>140</td>\n",
       "      <td>260</td>\n",
       "      <td>0</td>\n",
       "      <td>1</td>\n",
       "      <td>112</td>\n",
       "      <td>1</td>\n",
       "      <td>3</td>\n",
       "      <td>2</td>\n",
       "      <td>2</td>\n",
       "    </tr>\n",
       "    <tr>\n",
       "      <th>1</th>\n",
       "      <td>44</td>\n",
       "      <td>1</td>\n",
       "      <td>4</td>\n",
       "      <td>130</td>\n",
       "      <td>209</td>\n",
       "      <td>0</td>\n",
       "      <td>1</td>\n",
       "      <td>127</td>\n",
       "      <td>0</td>\n",
       "      <td>0</td>\n",
       "      <td>NaN</td>\n",
       "      <td>0</td>\n",
       "    </tr>\n",
       "    <tr>\n",
       "      <th>2</th>\n",
       "      <td>60</td>\n",
       "      <td>1</td>\n",
       "      <td>4</td>\n",
       "      <td>132</td>\n",
       "      <td>218</td>\n",
       "      <td>0</td>\n",
       "      <td>1</td>\n",
       "      <td>140</td>\n",
       "      <td>1</td>\n",
       "      <td>1.5</td>\n",
       "      <td>3</td>\n",
       "      <td>2</td>\n",
       "    </tr>\n",
       "    <tr>\n",
       "      <th>3</th>\n",
       "      <td>55</td>\n",
       "      <td>1</td>\n",
       "      <td>4</td>\n",
       "      <td>142</td>\n",
       "      <td>228</td>\n",
       "      <td>0</td>\n",
       "      <td>1</td>\n",
       "      <td>149</td>\n",
       "      <td>1</td>\n",
       "      <td>2.5</td>\n",
       "      <td>1</td>\n",
       "      <td>1</td>\n",
       "    </tr>\n",
       "    <tr>\n",
       "      <th>4</th>\n",
       "      <td>66</td>\n",
       "      <td>1</td>\n",
       "      <td>3</td>\n",
       "      <td>110</td>\n",
       "      <td>213</td>\n",
       "      <td>1</td>\n",
       "      <td>2</td>\n",
       "      <td>99</td>\n",
       "      <td>1</td>\n",
       "      <td>1.3</td>\n",
       "      <td>2</td>\n",
       "      <td>0</td>\n",
       "    </tr>\n",
       "    <tr>\n",
       "      <th>...</th>\n",
       "      <td>...</td>\n",
       "      <td>...</td>\n",
       "      <td>...</td>\n",
       "      <td>...</td>\n",
       "      <td>...</td>\n",
       "      <td>...</td>\n",
       "      <td>...</td>\n",
       "      <td>...</td>\n",
       "      <td>...</td>\n",
       "      <td>...</td>\n",
       "      <td>...</td>\n",
       "      <td>...</td>\n",
       "    </tr>\n",
       "    <tr>\n",
       "      <th>195</th>\n",
       "      <td>54</td>\n",
       "      <td>0</td>\n",
       "      <td>4</td>\n",
       "      <td>127</td>\n",
       "      <td>333</td>\n",
       "      <td>1</td>\n",
       "      <td>1</td>\n",
       "      <td>154</td>\n",
       "      <td>0</td>\n",
       "      <td>0</td>\n",
       "      <td>NaN</td>\n",
       "      <td>1</td>\n",
       "    </tr>\n",
       "    <tr>\n",
       "      <th>196</th>\n",
       "      <td>62</td>\n",
       "      <td>1</td>\n",
       "      <td>1</td>\n",
       "      <td>NaN</td>\n",
       "      <td>139</td>\n",
       "      <td>0</td>\n",
       "      <td>1</td>\n",
       "      <td>NaN</td>\n",
       "      <td>NaN</td>\n",
       "      <td>NaN</td>\n",
       "      <td>NaN</td>\n",
       "      <td>0</td>\n",
       "    </tr>\n",
       "    <tr>\n",
       "      <th>197</th>\n",
       "      <td>55</td>\n",
       "      <td>1</td>\n",
       "      <td>4</td>\n",
       "      <td>122</td>\n",
       "      <td>223</td>\n",
       "      <td>1</td>\n",
       "      <td>1</td>\n",
       "      <td>100</td>\n",
       "      <td>0</td>\n",
       "      <td>0</td>\n",
       "      <td>NaN</td>\n",
       "      <td>2</td>\n",
       "    </tr>\n",
       "    <tr>\n",
       "      <th>198</th>\n",
       "      <td>58</td>\n",
       "      <td>1</td>\n",
       "      <td>4</td>\n",
       "      <td>NaN</td>\n",
       "      <td>385</td>\n",
       "      <td>1</td>\n",
       "      <td>2</td>\n",
       "      <td>NaN</td>\n",
       "      <td>NaN</td>\n",
       "      <td>NaN</td>\n",
       "      <td>NaN</td>\n",
       "      <td>0</td>\n",
       "    </tr>\n",
       "    <tr>\n",
       "      <th>199</th>\n",
       "      <td>62</td>\n",
       "      <td>1</td>\n",
       "      <td>2</td>\n",
       "      <td>120</td>\n",
       "      <td>254</td>\n",
       "      <td>0</td>\n",
       "      <td>2</td>\n",
       "      <td>93</td>\n",
       "      <td>1</td>\n",
       "      <td>0</td>\n",
       "      <td>NaN</td>\n",
       "      <td>1</td>\n",
       "    </tr>\n",
       "  </tbody>\n",
       "</table>\n",
       "<p>200 rows × 12 columns</p>\n",
       "</div>"
      ],
      "text/plain": [
       "     age  sex  cp trestbps chol fbs  restecg thalach exang oldpeak slope  \\\n",
       "0     63    1   4      140  260   0        1     112     1       3     2   \n",
       "1     44    1   4      130  209   0        1     127     0       0   NaN   \n",
       "2     60    1   4      132  218   0        1     140     1     1.5     3   \n",
       "3     55    1   4      142  228   0        1     149     1     2.5     1   \n",
       "4     66    1   3      110  213   1        2      99     1     1.3     2   \n",
       "..   ...  ...  ..      ...  ...  ..      ...     ...   ...     ...   ...   \n",
       "195   54    0   4      127  333   1        1     154     0       0   NaN   \n",
       "196   62    1   1      NaN  139   0        1     NaN   NaN     NaN   NaN   \n",
       "197   55    1   4      122  223   1        1     100     0       0   NaN   \n",
       "198   58    1   4      NaN  385   1        2     NaN   NaN     NaN   NaN   \n",
       "199   62    1   2      120  254   0        2      93     1       0   NaN   \n",
       "\n",
       "     Target  \n",
       "0         2  \n",
       "1         0  \n",
       "2         2  \n",
       "3         1  \n",
       "4         0  \n",
       "..      ...  \n",
       "195       1  \n",
       "196       0  \n",
       "197       2  \n",
       "198       0  \n",
       "199       1  \n",
       "\n",
       "[200 rows x 12 columns]"
      ]
     },
     "execution_count": 311,
     "metadata": {},
     "output_type": "execute_result"
    }
   ],
   "source": [
    "#dropping columns with very less count\n",
    "df=df.drop(['ca','thal',], axis=1)\n",
    "df"
   ]
  },
  {
   "cell_type": "code",
   "execution_count": 312,
   "metadata": {},
   "outputs": [
    {
     "name": "stdout",
     "output_type": "stream",
     "text": [
      "trestbps : ['140' '130' '132' '142' '110' '120' '150' '180' '160' '126' nan '128'\n",
      " '170' '152' '116' '124' '0' '122' '144' '154' '125' '104' '136' '134'\n",
      " '138' '178' '146' '135' '158' '106' '112' '102' '96' '172' '155' '156'\n",
      " '118' '100' '190' '114' '127']\n",
      "120    16\n",
      "130    15\n",
      "140    10\n",
      "110     9\n",
      "150     9\n",
      "160     8\n",
      "122     6\n",
      "142     5\n",
      "134     4\n",
      "126     4\n",
      "170     4\n",
      "128     4\n",
      "136     4\n",
      "144     4\n",
      "124     4\n",
      "158     3\n",
      "132     3\n",
      "138     2\n",
      "180     2\n",
      "112     2\n",
      "104     2\n",
      "155     2\n",
      "154     2\n",
      "152     2\n",
      "116     2\n",
      "125     2\n",
      "190     1\n",
      "118     1\n",
      "172     1\n",
      "127     1\n",
      "156     1\n",
      "0       1\n",
      "146     1\n",
      "96      1\n",
      "100     1\n",
      "178     1\n",
      "114     1\n",
      "106     1\n",
      "102     1\n",
      "135     1\n",
      "Name: trestbps, dtype: int64\n",
      "**************************************************************\n",
      "\n",
      "\n",
      "chol : ['260' '209' '218' '228' '213' '0' '236' '267' '166' '220' '177' '186'\n",
      " '100' '171' '230' '281' '203' '277' '233' '240' '153' '224' '316' '311'\n",
      " '270' '217' '214' '252' '339' '216' '276' '458' '241' '384' '297' '248'\n",
      " '308' '208' '227' '210' '245' '225' '198' '195' '161' '258' '235' '305'\n",
      " '223' '282' '349' nan '160' '312' '283' '142' '211' '306' '222' '202'\n",
      " '197' '204' '274' '192' '298' '272' '200' '261' '181' '221' '175' '219'\n",
      " '310' '232' '273' '182' '292' '289' '193' '170' '369' '173' '271' '244'\n",
      " '285' '243' '237' '165' '287' '256' '264' '226' '207' '284' '337' '254'\n",
      " '300' '333' '139' '385']\n",
      "0      49\n",
      "220     4\n",
      "258     4\n",
      "203     4\n",
      "236     3\n",
      "       ..\n",
      "165     1\n",
      "139     1\n",
      "281     1\n",
      "316     1\n",
      "222     1\n",
      "Name: chol, Length: 99, dtype: int64\n",
      "**************************************************************\n",
      "\n",
      "\n",
      "fbs : ['0' '1' nan]\n",
      "0    125\n",
      "1     68\n",
      "Name: fbs, dtype: int64\n",
      "**************************************************************\n",
      "\n",
      "\n",
      "thalach : ['112' '127' '140' '149' '99' '120' '105' '141' '157' '117' nan '148' '86'\n",
      " '84' '125' '118' '124' '106' '111' '180' '129' '110' '155' '122' '133'\n",
      " '131' '80' '165' '107' '128' '160' '97' '161' '130' '108' '123' '144'\n",
      " '102' '145' '69' '138' '150' '88' '132' '121' '135' '100' '162' '73'\n",
      " '154' '115' '119' '159' '94' '113' '98' '96' '151' '126' '93']\n",
      "120    12\n",
      "140    12\n",
      "110     8\n",
      "130     6\n",
      "112     6\n",
      "160     4\n",
      "150     4\n",
      "118     4\n",
      "128     4\n",
      "100     4\n",
      "105     4\n",
      "135     3\n",
      "86      3\n",
      "122     3\n",
      "117     3\n",
      "148     3\n",
      "102     3\n",
      "125     3\n",
      "84      3\n",
      "108     3\n",
      "106     3\n",
      "138     2\n",
      "154     2\n",
      "127     2\n",
      "96      2\n",
      "165     2\n",
      "119     2\n",
      "180     2\n",
      "129     2\n",
      "98      2\n",
      "80      2\n",
      "111     2\n",
      "144     1\n",
      "145     1\n",
      "141     1\n",
      "157     1\n",
      "131     1\n",
      "97      1\n",
      "121     1\n",
      "94      1\n",
      "124     1\n",
      "149     1\n",
      "88      1\n",
      "123     1\n",
      "99      1\n",
      "73      1\n",
      "113     1\n",
      "107     1\n",
      "69      1\n",
      "93      1\n",
      "161     1\n",
      "162     1\n",
      "126     1\n",
      "151     1\n",
      "133     1\n",
      "115     1\n",
      "155     1\n",
      "159     1\n",
      "132     1\n",
      "Name: thalach, dtype: int64\n",
      "**************************************************************\n",
      "\n",
      "\n",
      "exang : ['1' '0' nan]\n",
      "1    95\n",
      "0    52\n",
      "Name: exang, dtype: int64\n",
      "**************************************************************\n",
      "\n",
      "\n",
      "oldpeak : ['3' '0' '1.5' '2.5' '1.3' '-0.5' '2' '0.5' '1' nan '1.6' '4' '3.5' '0.8'\n",
      " '1.7']\n",
      "0       40\n",
      "2       25\n",
      "1.5     21\n",
      "1       18\n",
      "3       13\n",
      "2.5      9\n",
      "0.5      7\n",
      "4        4\n",
      "1.3      2\n",
      "3.5      1\n",
      "0.8      1\n",
      "-0.5     1\n",
      "1.6      1\n",
      "1.7      1\n",
      "Name: oldpeak, dtype: int64\n",
      "**************************************************************\n",
      "\n",
      "\n",
      "slope : ['2' nan '3' '1']\n",
      "2    53\n",
      "3    29\n",
      "1    16\n",
      "Name: slope, dtype: int64\n",
      "**************************************************************\n",
      "\n",
      "\n"
     ]
    }
   ],
   "source": [
    "#printing the objects data types and there unique values\n",
    "for column in df.columns:\n",
    "    if df[column].dtype == object :\n",
    "        print(str(column) +  ' : ' + str(df[column].unique()))\n",
    "        print(df[column].value_counts())\n",
    "        print('**************************************************************')\n",
    "        print('\\n')"
   ]
  },
  {
   "cell_type": "code",
   "execution_count": 313,
   "metadata": {},
   "outputs": [
    {
     "name": "stdout",
     "output_type": "stream",
     "text": [
      "<class 'pandas.core.frame.DataFrame'>\n",
      "RangeIndex: 200 entries, 0 to 199\n",
      "Data columns (total 12 columns):\n",
      " #   Column    Non-Null Count  Dtype \n",
      "---  ------    --------------  ----- \n",
      " 0   age       200 non-null    int64 \n",
      " 1   sex       200 non-null    int64 \n",
      " 2   cp        200 non-null    int64 \n",
      " 3   trestbps  144 non-null    object\n",
      " 4   chol      193 non-null    object\n",
      " 5   fbs       193 non-null    object\n",
      " 6   restecg   200 non-null    int64 \n",
      " 7   thalach   147 non-null    object\n",
      " 8   exang     147 non-null    object\n",
      " 9   oldpeak   144 non-null    object\n",
      " 10  slope     98 non-null     object\n",
      " 11  Target    200 non-null    int64 \n",
      "dtypes: int64(5), object(7)\n",
      "memory usage: 18.9+ KB\n"
     ]
    }
   ],
   "source": [
    "df.info()"
   ]
  },
  {
   "cell_type": "code",
   "execution_count": 314,
   "metadata": {},
   "outputs": [],
   "source": [
    "#filling up the nan values with median\n",
    "df=df.fillna(df.median())"
   ]
  },
  {
   "cell_type": "code",
   "execution_count": 315,
   "metadata": {},
   "outputs": [
    {
     "data": {
      "text/html": [
       "<div>\n",
       "<style scoped>\n",
       "    .dataframe tbody tr th:only-of-type {\n",
       "        vertical-align: middle;\n",
       "    }\n",
       "\n",
       "    .dataframe tbody tr th {\n",
       "        vertical-align: top;\n",
       "    }\n",
       "\n",
       "    .dataframe thead th {\n",
       "        text-align: right;\n",
       "    }\n",
       "</style>\n",
       "<table border=\"1\" class=\"dataframe\">\n",
       "  <thead>\n",
       "    <tr style=\"text-align: right;\">\n",
       "      <th></th>\n",
       "      <th>age</th>\n",
       "      <th>sex</th>\n",
       "      <th>cp</th>\n",
       "      <th>trestbps</th>\n",
       "      <th>chol</th>\n",
       "      <th>fbs</th>\n",
       "      <th>restecg</th>\n",
       "      <th>thalach</th>\n",
       "      <th>exang</th>\n",
       "      <th>oldpeak</th>\n",
       "      <th>slope</th>\n",
       "      <th>Target</th>\n",
       "    </tr>\n",
       "  </thead>\n",
       "  <tbody>\n",
       "    <tr>\n",
       "      <th>0</th>\n",
       "      <td>63</td>\n",
       "      <td>1</td>\n",
       "      <td>4</td>\n",
       "      <td>140</td>\n",
       "      <td>260</td>\n",
       "      <td>0</td>\n",
       "      <td>1</td>\n",
       "      <td>112</td>\n",
       "      <td>1</td>\n",
       "      <td>3</td>\n",
       "      <td>2</td>\n",
       "      <td>2</td>\n",
       "    </tr>\n",
       "    <tr>\n",
       "      <th>1</th>\n",
       "      <td>44</td>\n",
       "      <td>1</td>\n",
       "      <td>4</td>\n",
       "      <td>130</td>\n",
       "      <td>209</td>\n",
       "      <td>0</td>\n",
       "      <td>1</td>\n",
       "      <td>127</td>\n",
       "      <td>0</td>\n",
       "      <td>0</td>\n",
       "      <td>2</td>\n",
       "      <td>0</td>\n",
       "    </tr>\n",
       "    <tr>\n",
       "      <th>2</th>\n",
       "      <td>60</td>\n",
       "      <td>1</td>\n",
       "      <td>4</td>\n",
       "      <td>132</td>\n",
       "      <td>218</td>\n",
       "      <td>0</td>\n",
       "      <td>1</td>\n",
       "      <td>140</td>\n",
       "      <td>1</td>\n",
       "      <td>1.5</td>\n",
       "      <td>3</td>\n",
       "      <td>2</td>\n",
       "    </tr>\n",
       "    <tr>\n",
       "      <th>3</th>\n",
       "      <td>55</td>\n",
       "      <td>1</td>\n",
       "      <td>4</td>\n",
       "      <td>142</td>\n",
       "      <td>228</td>\n",
       "      <td>0</td>\n",
       "      <td>1</td>\n",
       "      <td>149</td>\n",
       "      <td>1</td>\n",
       "      <td>2.5</td>\n",
       "      <td>1</td>\n",
       "      <td>1</td>\n",
       "    </tr>\n",
       "    <tr>\n",
       "      <th>4</th>\n",
       "      <td>66</td>\n",
       "      <td>1</td>\n",
       "      <td>3</td>\n",
       "      <td>110</td>\n",
       "      <td>213</td>\n",
       "      <td>1</td>\n",
       "      <td>2</td>\n",
       "      <td>99</td>\n",
       "      <td>1</td>\n",
       "      <td>1.3</td>\n",
       "      <td>2</td>\n",
       "      <td>0</td>\n",
       "    </tr>\n",
       "    <tr>\n",
       "      <th>...</th>\n",
       "      <td>...</td>\n",
       "      <td>...</td>\n",
       "      <td>...</td>\n",
       "      <td>...</td>\n",
       "      <td>...</td>\n",
       "      <td>...</td>\n",
       "      <td>...</td>\n",
       "      <td>...</td>\n",
       "      <td>...</td>\n",
       "      <td>...</td>\n",
       "      <td>...</td>\n",
       "      <td>...</td>\n",
       "    </tr>\n",
       "    <tr>\n",
       "      <th>195</th>\n",
       "      <td>54</td>\n",
       "      <td>0</td>\n",
       "      <td>4</td>\n",
       "      <td>127</td>\n",
       "      <td>333</td>\n",
       "      <td>1</td>\n",
       "      <td>1</td>\n",
       "      <td>154</td>\n",
       "      <td>0</td>\n",
       "      <td>0</td>\n",
       "      <td>2</td>\n",
       "      <td>1</td>\n",
       "    </tr>\n",
       "    <tr>\n",
       "      <th>196</th>\n",
       "      <td>62</td>\n",
       "      <td>1</td>\n",
       "      <td>1</td>\n",
       "      <td>130</td>\n",
       "      <td>139</td>\n",
       "      <td>0</td>\n",
       "      <td>1</td>\n",
       "      <td>120</td>\n",
       "      <td>1</td>\n",
       "      <td>1.5</td>\n",
       "      <td>2</td>\n",
       "      <td>0</td>\n",
       "    </tr>\n",
       "    <tr>\n",
       "      <th>197</th>\n",
       "      <td>55</td>\n",
       "      <td>1</td>\n",
       "      <td>4</td>\n",
       "      <td>122</td>\n",
       "      <td>223</td>\n",
       "      <td>1</td>\n",
       "      <td>1</td>\n",
       "      <td>100</td>\n",
       "      <td>0</td>\n",
       "      <td>0</td>\n",
       "      <td>2</td>\n",
       "      <td>2</td>\n",
       "    </tr>\n",
       "    <tr>\n",
       "      <th>198</th>\n",
       "      <td>58</td>\n",
       "      <td>1</td>\n",
       "      <td>4</td>\n",
       "      <td>130</td>\n",
       "      <td>385</td>\n",
       "      <td>1</td>\n",
       "      <td>2</td>\n",
       "      <td>120</td>\n",
       "      <td>1</td>\n",
       "      <td>1.5</td>\n",
       "      <td>2</td>\n",
       "      <td>0</td>\n",
       "    </tr>\n",
       "    <tr>\n",
       "      <th>199</th>\n",
       "      <td>62</td>\n",
       "      <td>1</td>\n",
       "      <td>2</td>\n",
       "      <td>120</td>\n",
       "      <td>254</td>\n",
       "      <td>0</td>\n",
       "      <td>2</td>\n",
       "      <td>93</td>\n",
       "      <td>1</td>\n",
       "      <td>0</td>\n",
       "      <td>2</td>\n",
       "      <td>1</td>\n",
       "    </tr>\n",
       "  </tbody>\n",
       "</table>\n",
       "<p>200 rows × 12 columns</p>\n",
       "</div>"
      ],
      "text/plain": [
       "     age  sex  cp trestbps chol fbs  restecg thalach exang oldpeak slope  \\\n",
       "0     63    1   4      140  260   0        1     112     1       3     2   \n",
       "1     44    1   4      130  209   0        1     127     0       0     2   \n",
       "2     60    1   4      132  218   0        1     140     1     1.5     3   \n",
       "3     55    1   4      142  228   0        1     149     1     2.5     1   \n",
       "4     66    1   3      110  213   1        2      99     1     1.3     2   \n",
       "..   ...  ...  ..      ...  ...  ..      ...     ...   ...     ...   ...   \n",
       "195   54    0   4      127  333   1        1     154     0       0     2   \n",
       "196   62    1   1      130  139   0        1     120     1     1.5     2   \n",
       "197   55    1   4      122  223   1        1     100     0       0     2   \n",
       "198   58    1   4      130  385   1        2     120     1     1.5     2   \n",
       "199   62    1   2      120  254   0        2      93     1       0     2   \n",
       "\n",
       "     Target  \n",
       "0         2  \n",
       "1         0  \n",
       "2         2  \n",
       "3         1  \n",
       "4         0  \n",
       "..      ...  \n",
       "195       1  \n",
       "196       0  \n",
       "197       2  \n",
       "198       0  \n",
       "199       1  \n",
       "\n",
       "[200 rows x 12 columns]"
      ]
     },
     "execution_count": 315,
     "metadata": {},
     "output_type": "execute_result"
    }
   ],
   "source": [
    "df"
   ]
  },
  {
   "cell_type": "code",
   "execution_count": 316,
   "metadata": {},
   "outputs": [
    {
     "data": {
      "text/plain": [
       "False"
      ]
     },
     "execution_count": 316,
     "metadata": {},
     "output_type": "execute_result"
    }
   ],
   "source": [
    "df.isnull().values.any()"
   ]
  },
  {
   "cell_type": "code",
   "execution_count": 317,
   "metadata": {},
   "outputs": [
    {
     "data": {
      "image/png": "[encoded data removed]",
      "text/plain": [
       "<Figure size 432x288 with 1 Axes>"
      ]
     },
     "metadata": {
      "needs_background": "light"
     },
     "output_type": "display_data"
    }
   ],
   "source": [
    "sns.heatmap(df.isnull(),yticklabels=False,cbar=False,cmap='tab20')\n",
    "plt.show()"
   ]
  },
  {
   "cell_type": "code",
   "execution_count": 318,
   "metadata": {},
   "outputs": [
    {
     "data": {
      "text/plain": [
       "age          int64\n",
       "sex          int64\n",
       "cp           int64\n",
       "trestbps    object\n",
       "chol        object\n",
       "fbs         object\n",
       "restecg      int64\n",
       "thalach     object\n",
       "exang       object\n",
       "oldpeak     object\n",
       "slope       object\n",
       "Target       int64\n",
       "dtype: object"
      ]
     },
     "execution_count": 318,
     "metadata": {},
     "output_type": "execute_result"
    }
   ],
   "source": [
    "df.dtypes"
   ]
  },
  {
   "cell_type": "code",
   "execution_count": 319,
   "metadata": {},
   "outputs": [
    {
     "data": {
      "text/plain": [
       "age           int64\n",
       "sex           int64\n",
       "cp            int64\n",
       "trestbps      int64\n",
       "chol          int64\n",
       "fbs           int64\n",
       "restecg       int64\n",
       "thalach       int64\n",
       "exang         int64\n",
       "oldpeak     float64\n",
       "slope         int64\n",
       "Target        int64\n",
       "dtype: object"
      ]
     },
     "execution_count": 319,
     "metadata": {},
     "output_type": "execute_result"
    }
   ],
   "source": [
    "#changing the data types to respective data type as per the data in columns\n",
    "df['oldpeak'] = df['oldpeak'].astype('float64')\n",
    "df[df.select_dtypes(['object']).columns] = df.select_dtypes(['object']).apply(lambda x: x.astype('int64'))\n",
    "df.dtypes"
   ]
  },
  {
   "cell_type": "markdown",
   "metadata": {},
   "source": [
    "# EDA"
   ]
  },
  {
   "cell_type": "code",
   "execution_count": 320,
   "metadata": {},
   "outputs": [
    {
     "data": {
      "text/html": [
       "<div>\n",
       "<style scoped>\n",
       "    .dataframe tbody tr th:only-of-type {\n",
       "        vertical-align: middle;\n",
       "    }\n",
       "\n",
       "    .dataframe tbody tr th {\n",
       "        vertical-align: top;\n",
       "    }\n",
       "\n",
       "    .dataframe thead th {\n",
       "        text-align: right;\n",
       "    }\n",
       "</style>\n",
       "<table border=\"1\" class=\"dataframe\">\n",
       "  <thead>\n",
       "    <tr style=\"text-align: right;\">\n",
       "      <th></th>\n",
       "      <th>age</th>\n",
       "      <th>sex</th>\n",
       "      <th>cp</th>\n",
       "      <th>trestbps</th>\n",
       "      <th>chol</th>\n",
       "      <th>fbs</th>\n",
       "      <th>restecg</th>\n",
       "      <th>thalach</th>\n",
       "      <th>exang</th>\n",
       "      <th>oldpeak</th>\n",
       "      <th>slope</th>\n",
       "      <th>Target</th>\n",
       "    </tr>\n",
       "  </thead>\n",
       "  <tbody>\n",
       "    <tr>\n",
       "      <th>count</th>\n",
       "      <td>200.000000</td>\n",
       "      <td>200.000000</td>\n",
       "      <td>200.000000</td>\n",
       "      <td>200.000000</td>\n",
       "      <td>200.000000</td>\n",
       "      <td>200.000000</td>\n",
       "      <td>200.000000</td>\n",
       "      <td>200.000000</td>\n",
       "      <td>200.000000</td>\n",
       "      <td>200.000000</td>\n",
       "      <td>200.000000</td>\n",
       "      <td>200.000000</td>\n",
       "    </tr>\n",
       "    <tr>\n",
       "      <th>mean</th>\n",
       "      <td>59.350000</td>\n",
       "      <td>0.970000</td>\n",
       "      <td>3.505000</td>\n",
       "      <td>132.710000</td>\n",
       "      <td>180.050000</td>\n",
       "      <td>0.340000</td>\n",
       "      <td>0.735000</td>\n",
       "      <td>122.055000</td>\n",
       "      <td>0.740000</td>\n",
       "      <td>1.371000</td>\n",
       "      <td>2.065000</td>\n",
       "      <td>1.520000</td>\n",
       "    </tr>\n",
       "    <tr>\n",
       "      <th>std</th>\n",
       "      <td>7.811697</td>\n",
       "      <td>0.171015</td>\n",
       "      <td>0.795701</td>\n",
       "      <td>18.335947</td>\n",
       "      <td>112.221727</td>\n",
       "      <td>0.474898</td>\n",
       "      <td>0.683455</td>\n",
       "      <td>18.876269</td>\n",
       "      <td>0.439735</td>\n",
       "      <td>0.941216</td>\n",
       "      <td>0.471046</td>\n",
       "      <td>1.219441</td>\n",
       "    </tr>\n",
       "    <tr>\n",
       "      <th>min</th>\n",
       "      <td>35.000000</td>\n",
       "      <td>0.000000</td>\n",
       "      <td>1.000000</td>\n",
       "      <td>0.000000</td>\n",
       "      <td>0.000000</td>\n",
       "      <td>0.000000</td>\n",
       "      <td>0.000000</td>\n",
       "      <td>69.000000</td>\n",
       "      <td>0.000000</td>\n",
       "      <td>-0.500000</td>\n",
       "      <td>1.000000</td>\n",
       "      <td>0.000000</td>\n",
       "    </tr>\n",
       "    <tr>\n",
       "      <th>25%</th>\n",
       "      <td>55.000000</td>\n",
       "      <td>1.000000</td>\n",
       "      <td>3.000000</td>\n",
       "      <td>125.750000</td>\n",
       "      <td>129.250000</td>\n",
       "      <td>0.000000</td>\n",
       "      <td>0.000000</td>\n",
       "      <td>112.000000</td>\n",
       "      <td>0.000000</td>\n",
       "      <td>1.000000</td>\n",
       "      <td>2.000000</td>\n",
       "      <td>0.000000</td>\n",
       "    </tr>\n",
       "    <tr>\n",
       "      <th>50%</th>\n",
       "      <td>60.000000</td>\n",
       "      <td>1.000000</td>\n",
       "      <td>4.000000</td>\n",
       "      <td>130.000000</td>\n",
       "      <td>216.000000</td>\n",
       "      <td>0.000000</td>\n",
       "      <td>1.000000</td>\n",
       "      <td>120.000000</td>\n",
       "      <td>1.000000</td>\n",
       "      <td>1.500000</td>\n",
       "      <td>2.000000</td>\n",
       "      <td>1.000000</td>\n",
       "    </tr>\n",
       "    <tr>\n",
       "      <th>75%</th>\n",
       "      <td>64.000000</td>\n",
       "      <td>1.000000</td>\n",
       "      <td>4.000000</td>\n",
       "      <td>140.000000</td>\n",
       "      <td>254.500000</td>\n",
       "      <td>1.000000</td>\n",
       "      <td>1.000000</td>\n",
       "      <td>130.000000</td>\n",
       "      <td>1.000000</td>\n",
       "      <td>2.000000</td>\n",
       "      <td>2.000000</td>\n",
       "      <td>3.000000</td>\n",
       "    </tr>\n",
       "    <tr>\n",
       "      <th>max</th>\n",
       "      <td>77.000000</td>\n",
       "      <td>1.000000</td>\n",
       "      <td>4.000000</td>\n",
       "      <td>190.000000</td>\n",
       "      <td>458.000000</td>\n",
       "      <td>1.000000</td>\n",
       "      <td>2.000000</td>\n",
       "      <td>180.000000</td>\n",
       "      <td>1.000000</td>\n",
       "      <td>4.000000</td>\n",
       "      <td>3.000000</td>\n",
       "      <td>4.000000</td>\n",
       "    </tr>\n",
       "  </tbody>\n",
       "</table>\n",
       "</div>"
      ],
      "text/plain": [
       "              age         sex          cp    trestbps        chol         fbs  \\\n",
       "count  200.000000  200.000000  200.000000  200.000000  200.000000  200.000000   \n",
       "mean    59.350000    0.970000    3.505000  132.710000  180.050000    0.340000   \n",
       "std      7.811697    0.171015    0.795701   18.335947  112.221727    0.474898   \n",
       "min     35.000000    0.000000    1.000000    0.000000    0.000000    0.000000   \n",
       "25%     55.000000    1.000000    3.000000  125.750000  129.250000    0.000000   \n",
       "50%     60.000000    1.000000    4.000000  130.000000  216.000000    0.000000   \n",
       "75%     64.000000    1.000000    4.000000  140.000000  254.500000    1.000000   \n",
       "max     77.000000    1.000000    4.000000  190.000000  458.000000    1.000000   \n",
       "\n",
       "          restecg     thalach       exang     oldpeak       slope      Target  \n",
       "count  200.000000  200.000000  200.000000  200.000000  200.000000  200.000000  \n",
       "mean     0.735000  122.055000    0.740000    1.371000    2.065000    1.520000  \n",
       "std      0.683455   18.876269    0.439735    0.941216    0.471046    1.219441  \n",
       "min      0.000000   69.000000    0.000000   -0.500000    1.000000    0.000000  \n",
       "25%      0.000000  112.000000    0.000000    1.000000    2.000000    0.000000  \n",
       "50%      1.000000  120.000000    1.000000    1.500000    2.000000    1.000000  \n",
       "75%      1.000000  130.000000    1.000000    2.000000    2.000000    3.000000  \n",
       "max      2.000000  180.000000    1.000000    4.000000    3.000000    4.000000  "
      ]
     },
     "execution_count": 320,
     "metadata": {},
     "output_type": "execute_result"
    }
   ],
   "source": [
    "df.describe(include=\"all\")"
   ]
  },
  {
   "cell_type": "code",
   "execution_count": 321,
   "metadata": {},
   "outputs": [
    {
     "data": {
      "text/html": [
       "<div>\n",
       "<style scoped>\n",
       "    .dataframe tbody tr th:only-of-type {\n",
       "        vertical-align: middle;\n",
       "    }\n",
       "\n",
       "    .dataframe tbody tr th {\n",
       "        vertical-align: top;\n",
       "    }\n",
       "\n",
       "    .dataframe thead th {\n",
       "        text-align: right;\n",
       "    }\n",
       "</style>\n",
       "<table border=\"1\" class=\"dataframe\">\n",
       "  <thead>\n",
       "    <tr style=\"text-align: right;\">\n",
       "      <th></th>\n",
       "      <th>age</th>\n",
       "      <th>sex</th>\n",
       "      <th>cp</th>\n",
       "      <th>trestbps</th>\n",
       "      <th>chol</th>\n",
       "      <th>fbs</th>\n",
       "      <th>restecg</th>\n",
       "      <th>thalach</th>\n",
       "      <th>exang</th>\n",
       "      <th>oldpeak</th>\n",
       "      <th>slope</th>\n",
       "      <th>Target</th>\n",
       "    </tr>\n",
       "  </thead>\n",
       "  <tbody>\n",
       "    <tr>\n",
       "      <th>age</th>\n",
       "      <td>1.000000</td>\n",
       "      <td>0.034230</td>\n",
       "      <td>-0.038280</td>\n",
       "      <td>0.179566</td>\n",
       "      <td>0.069953</td>\n",
       "      <td>0.135728</td>\n",
       "      <td>0.002400</td>\n",
       "      <td>-0.150146</td>\n",
       "      <td>0.129027</td>\n",
       "      <td>0.156191</td>\n",
       "      <td>0.107135</td>\n",
       "      <td>0.287289</td>\n",
       "    </tr>\n",
       "    <tr>\n",
       "      <th>sex</th>\n",
       "      <td>0.034230</td>\n",
       "      <td>1.000000</td>\n",
       "      <td>0.038036</td>\n",
       "      <td>0.008429</td>\n",
       "      <td>-0.093922</td>\n",
       "      <td>-0.059400</td>\n",
       "      <td>0.060621</td>\n",
       "      <td>-0.004156</td>\n",
       "      <td>0.029402</td>\n",
       "      <td>0.100713</td>\n",
       "      <td>0.086709</td>\n",
       "      <td>0.147470</td>\n",
       "    </tr>\n",
       "    <tr>\n",
       "      <th>cp</th>\n",
       "      <td>-0.038280</td>\n",
       "      <td>0.038036</td>\n",
       "      <td>1.000000</td>\n",
       "      <td>0.094128</td>\n",
       "      <td>0.068766</td>\n",
       "      <td>-0.044416</td>\n",
       "      <td>0.034790</td>\n",
       "      <td>-0.108585</td>\n",
       "      <td>0.089904</td>\n",
       "      <td>0.015627</td>\n",
       "      <td>0.059460</td>\n",
       "      <td>0.168210</td>\n",
       "    </tr>\n",
       "    <tr>\n",
       "      <th>trestbps</th>\n",
       "      <td>0.179566</td>\n",
       "      <td>0.008429</td>\n",
       "      <td>0.094128</td>\n",
       "      <td>1.000000</td>\n",
       "      <td>0.142605</td>\n",
       "      <td>0.185084</td>\n",
       "      <td>0.088871</td>\n",
       "      <td>-0.005253</td>\n",
       "      <td>0.173210</td>\n",
       "      <td>0.103139</td>\n",
       "      <td>0.088883</td>\n",
       "      <td>0.145444</td>\n",
       "    </tr>\n",
       "    <tr>\n",
       "      <th>chol</th>\n",
       "      <td>0.069953</td>\n",
       "      <td>-0.093922</td>\n",
       "      <td>0.068766</td>\n",
       "      <td>0.142605</td>\n",
       "      <td>1.000000</td>\n",
       "      <td>0.175249</td>\n",
       "      <td>0.028739</td>\n",
       "      <td>-0.044767</td>\n",
       "      <td>0.116148</td>\n",
       "      <td>0.015728</td>\n",
       "      <td>0.041670</td>\n",
       "      <td>0.079529</td>\n",
       "    </tr>\n",
       "    <tr>\n",
       "      <th>fbs</th>\n",
       "      <td>0.135728</td>\n",
       "      <td>-0.059400</td>\n",
       "      <td>-0.044416</td>\n",
       "      <td>0.185084</td>\n",
       "      <td>0.175249</td>\n",
       "      <td>1.000000</td>\n",
       "      <td>0.170616</td>\n",
       "      <td>0.033219</td>\n",
       "      <td>-0.176144</td>\n",
       "      <td>-0.096999</td>\n",
       "      <td>-0.009435</td>\n",
       "      <td>0.048940</td>\n",
       "    </tr>\n",
       "    <tr>\n",
       "      <th>restecg</th>\n",
       "      <td>0.002400</td>\n",
       "      <td>0.060621</td>\n",
       "      <td>0.034790</td>\n",
       "      <td>0.088871</td>\n",
       "      <td>0.028739</td>\n",
       "      <td>0.170616</td>\n",
       "      <td>1.000000</td>\n",
       "      <td>0.010094</td>\n",
       "      <td>-0.063203</td>\n",
       "      <td>-0.102623</td>\n",
       "      <td>-0.039881</td>\n",
       "      <td>-0.032800</td>\n",
       "    </tr>\n",
       "    <tr>\n",
       "      <th>thalach</th>\n",
       "      <td>-0.150146</td>\n",
       "      <td>-0.004156</td>\n",
       "      <td>-0.108585</td>\n",
       "      <td>-0.005253</td>\n",
       "      <td>-0.044767</td>\n",
       "      <td>0.033219</td>\n",
       "      <td>0.010094</td>\n",
       "      <td>1.000000</td>\n",
       "      <td>-0.093316</td>\n",
       "      <td>0.171803</td>\n",
       "      <td>-0.101567</td>\n",
       "      <td>-0.073072</td>\n",
       "    </tr>\n",
       "    <tr>\n",
       "      <th>exang</th>\n",
       "      <td>0.129027</td>\n",
       "      <td>0.029402</td>\n",
       "      <td>0.089904</td>\n",
       "      <td>0.173210</td>\n",
       "      <td>0.116148</td>\n",
       "      <td>-0.176144</td>\n",
       "      <td>-0.063203</td>\n",
       "      <td>-0.093316</td>\n",
       "      <td>1.000000</td>\n",
       "      <td>0.315578</td>\n",
       "      <td>0.106259</td>\n",
       "      <td>0.206541</td>\n",
       "    </tr>\n",
       "    <tr>\n",
       "      <th>oldpeak</th>\n",
       "      <td>0.156191</td>\n",
       "      <td>0.100713</td>\n",
       "      <td>0.015627</td>\n",
       "      <td>0.103139</td>\n",
       "      <td>0.015728</td>\n",
       "      <td>-0.096999</td>\n",
       "      <td>-0.102623</td>\n",
       "      <td>0.171803</td>\n",
       "      <td>0.315578</td>\n",
       "      <td>1.000000</td>\n",
       "      <td>0.284230</td>\n",
       "      <td>0.366526</td>\n",
       "    </tr>\n",
       "    <tr>\n",
       "      <th>slope</th>\n",
       "      <td>0.107135</td>\n",
       "      <td>0.086709</td>\n",
       "      <td>0.059460</td>\n",
       "      <td>0.088883</td>\n",
       "      <td>0.041670</td>\n",
       "      <td>-0.009435</td>\n",
       "      <td>-0.039881</td>\n",
       "      <td>-0.101567</td>\n",
       "      <td>0.106259</td>\n",
       "      <td>0.284230</td>\n",
       "      <td>1.000000</td>\n",
       "      <td>0.142072</td>\n",
       "    </tr>\n",
       "    <tr>\n",
       "      <th>Target</th>\n",
       "      <td>0.287289</td>\n",
       "      <td>0.147470</td>\n",
       "      <td>0.168210</td>\n",
       "      <td>0.145444</td>\n",
       "      <td>0.079529</td>\n",
       "      <td>0.048940</td>\n",
       "      <td>-0.032800</td>\n",
       "      <td>-0.073072</td>\n",
       "      <td>0.206541</td>\n",
       "      <td>0.366526</td>\n",
       "      <td>0.142072</td>\n",
       "      <td>1.000000</td>\n",
       "    </tr>\n",
       "  </tbody>\n",
       "</table>\n",
       "</div>"
      ],
      "text/plain": [
       "               age       sex        cp  trestbps      chol       fbs  \\\n",
       "age       1.000000  0.034230 -0.038280  0.179566  0.069953  0.135728   \n",
       "sex       0.034230  1.000000  0.038036  0.008429 -0.093922 -0.059400   \n",
       "cp       -0.038280  0.038036  1.000000  0.094128  0.068766 -0.044416   \n",
       "trestbps  0.179566  0.008429  0.094128  1.000000  0.142605  0.185084   \n",
       "chol      0.069953 -0.093922  0.068766  0.142605  1.000000  0.175249   \n",
       "fbs       0.135728 -0.059400 -0.044416  0.185084  0.175249  1.000000   \n",
       "restecg   0.002400  0.060621  0.034790  0.088871  0.028739  0.170616   \n",
       "thalach  -0.150146 -0.004156 -0.108585 -0.005253 -0.044767  0.033219   \n",
       "exang     0.129027  0.029402  0.089904  0.173210  0.116148 -0.176144   \n",
       "oldpeak   0.156191  0.100713  0.015627  0.103139  0.015728 -0.096999   \n",
       "slope     0.107135  0.086709  0.059460  0.088883  0.041670 -0.009435   \n",
       "Target    0.287289  0.147470  0.168210  0.145444  0.079529  0.048940   \n",
       "\n",
       "           restecg   thalach     exang   oldpeak     slope    Target  \n",
       "age       0.002400 -0.150146  0.129027  0.156191  0.107135  0.287289  \n",
       "sex       0.060621 -0.004156  0.029402  0.100713  0.086709  0.147470  \n",
       "cp        0.034790 -0.108585  0.089904  0.015627  0.059460  0.168210  \n",
       "trestbps  0.088871 -0.005253  0.173210  0.103139  0.088883  0.145444  \n",
       "chol      0.028739 -0.044767  0.116148  0.015728  0.041670  0.079529  \n",
       "fbs       0.170616  0.033219 -0.176144 -0.096999 -0.009435  0.048940  \n",
       "restecg   1.000000  0.010094 -0.063203 -0.102623 -0.039881 -0.032800  \n",
       "thalach   0.010094  1.000000 -0.093316  0.171803 -0.101567 -0.073072  \n",
       "exang    -0.063203 -0.093316  1.000000  0.315578  0.106259  0.206541  \n",
       "oldpeak  -0.102623  0.171803  0.315578  1.000000  0.284230  0.366526  \n",
       "slope    -0.039881 -0.101567  0.106259  0.284230  1.000000  0.142072  \n",
       "Target   -0.032800 -0.073072  0.206541  0.366526  0.142072  1.000000  "
      ]
     },
     "execution_count": 321,
     "metadata": {},
     "output_type": "execute_result"
    }
   ],
   "source": [
    "df.corr()"
   ]
  },
  {
   "cell_type": "code",
   "execution_count": 322,
   "metadata": {},
   "outputs": [
    {
     "data": {
      "image/png": "[encoded data removed]",
      "text/plain": [
       "<Figure size 720x720 with 2 Axes>"
      ]
     },
     "metadata": {
      "needs_background": "light"
     },
     "output_type": "display_data"
    }
   ],
   "source": [
    "corr_hmap=df.corr()\n",
    "plt.figure(figsize=(10,10))\n",
    "sns.heatmap(corr_hmap,annot=True)\n",
    "plt.show()"
   ]
  },
  {
   "cell_type": "code",
   "execution_count": 323,
   "metadata": {},
   "outputs": [
    {
     "data": {
      "image/png": "[encoded data removed]",
      "text/plain": [
       "<Figure size 576x432 with 2 Axes>"
      ]
     },
     "metadata": {
      "needs_background": "light"
     },
     "output_type": "display_data"
    }
   ],
   "source": [
    "#correlation %\n",
    "plt.figure(figsize=(8,6))\n",
    "sns.heatmap(df.corr(),annot=True,fmt='.0%',cmap='Blues')\n",
    "plt.show()"
   ]
  },
  {
   "cell_type": "code",
   "execution_count": 324,
   "metadata": {},
   "outputs": [
    {
     "data": {
      "text/plain": [
       "Text(0.5, 1.0, 'Correlation with target variable')"
      ]
     },
     "execution_count": 324,
     "metadata": {},
     "output_type": "execute_result"
    },
    {
     "data": {
      "image/png": "[encoded data removed]",
      "text/plain": [
       "<Figure size 576x432 with 1 Axes>"
      ]
     },
     "metadata": {
      "needs_background": "light"
     },
     "output_type": "display_data"
    }
   ],
   "source": [
    "#correlation with the target\n",
    "plt.figure(figsize=(8,6))\n",
    "df.drop('Target', axis=1).corrwith(df['Target']).plot(kind='bar',grid=True)\n",
    "plt.xticks(rotation=10)\n",
    "plt.title('Correlation with target variable')"
   ]
  },
  {
   "cell_type": "markdown",
   "metadata": {},
   "source": [
    "# Univariate Analysis "
   ]
  },
  {
   "cell_type": "code",
   "execution_count": 325,
   "metadata": {},
   "outputs": [
    {
     "data": {
      "image/png": "[encoded data removed]",
      "text/plain": [
       "<Figure size 432x288 with 1 Axes>"
      ]
     },
     "metadata": {
      "needs_background": "light"
     },
     "output_type": "display_data"
    },
    {
     "name": "stdout",
     "output_type": "stream",
     "text": [
      "1    56\n",
      "0    51\n",
      "3    42\n",
      "2    41\n",
      "4    10\n",
      "Name: Target, dtype: int64\n"
     ]
    }
   ],
   "source": [
    "plt.subplots(figsize=(6,4))\n",
    "sns.countplot(x='Target', data = df)\n",
    "plt.title('Count of people')\n",
    "plt.show()\n",
    "print(df.Target.value_counts())"
   ]
  },
  {
   "cell_type": "markdown",
   "metadata": {},
   "source": [
    "We can observe that around 51 people have no occurence of heart disease i.e. ~25% and 10 people are at very high risk."
   ]
  },
  {
   "cell_type": "code",
   "execution_count": 326,
   "metadata": {},
   "outputs": [
    {
     "data": {
      "image/png": "[encoded data removed]",
      "text/plain": [
       "<Figure size 432x288 with 1 Axes>"
      ]
     },
     "metadata": {
      "needs_background": "light"
     },
     "output_type": "display_data"
    },
    {
     "name": "stdout",
     "output_type": "stream",
     "text": [
      "1    194\n",
      "0      6\n",
      "Name: sex, dtype: int64\n"
     ]
    }
   ],
   "source": [
    "plt.subplots(figsize=(6,4))\n",
    "sns.countplot(x='sex', data = df)\n",
    "plt.title('Count of people by sex')\n",
    "plt.xlabel('0= Female and 1= Male')\n",
    "plt.show()\n",
    "print(df.sex.value_counts())"
   ]
  },
  {
   "cell_type": "markdown",
   "metadata": {},
   "source": [
    "Since 0 represents female and 1 represents male we can male are at very high risk of heart disease."
   ]
  },
  {
   "cell_type": "code",
   "execution_count": 327,
   "metadata": {},
   "outputs": [
    {
     "data": {
      "image/png": "[encoded data removed]",
      "text/plain": [
       "<Figure size 1584x720 with 1 Axes>"
      ]
     },
     "metadata": {
      "needs_background": "light"
     },
     "output_type": "display_data"
    },
    {
     "name": "stdout",
     "output_type": "stream",
     "text": [
      "63    15\n",
      "62    15\n",
      "55    14\n",
      "60    12\n",
      "58    12\n",
      "61    12\n",
      "57    10\n",
      "64     9\n",
      "56     9\n",
      "69     8\n",
      "59     8\n",
      "54     7\n",
      "51     7\n",
      "65     6\n",
      "74     5\n",
      "67     5\n",
      "53     5\n",
      "68     4\n",
      "48     4\n",
      "72     3\n",
      "66     3\n",
      "75     3\n",
      "40     2\n",
      "46     2\n",
      "50     2\n",
      "49     2\n",
      "41     2\n",
      "52     2\n",
      "71     2\n",
      "42     1\n",
      "37     1\n",
      "38     1\n",
      "77     1\n",
      "43     1\n",
      "44     1\n",
      "45     1\n",
      "76     1\n",
      "70     1\n",
      "35     1\n",
      "Name: age, dtype: int64\n"
     ]
    }
   ],
   "source": [
    "plt.subplots(figsize=(22,10))\n",
    "sns.countplot(x='age', data = df)\n",
    "plt.title('Number of people with different age')\n",
    "plt.show()\n",
    "print(df.age.value_counts())"
   ]
  },
  {
   "cell_type": "markdown",
   "metadata": {},
   "source": [
    "# Bivarite Analysis"
   ]
  },
  {
   "cell_type": "code",
   "execution_count": 328,
   "metadata": {},
   "outputs": [
    {
     "data": {
      "image/png": "[encoded data removed]",
      "text/plain": [
       "<Figure size 1080x216 with 5 Axes>"
      ]
     },
     "metadata": {
      "needs_background": "light"
     },
     "output_type": "display_data"
    }
   ],
   "source": [
    "facet= sns.FacetGrid(df,col= 'Target')\n",
    "facet.map(sns.distplot,'age')\n",
    "plt.show()"
   ]
  },
  {
   "cell_type": "code",
   "execution_count": 329,
   "metadata": {},
   "outputs": [
    {
     "name": "stdout",
     "output_type": "stream",
     "text": [
      "sex  Target\n",
      "0    0          3\n",
      "     1          3\n",
      "1    1         53\n",
      "     0         48\n",
      "     3         42\n",
      "     2         41\n",
      "     4         10\n",
      "Name: Target, dtype: int64\n"
     ]
    },
    {
     "data": {
      "image/png": "[encoded data removed]",
      "text/plain": [
       "<Figure size 432x288 with 1 Axes>"
      ]
     },
     "metadata": {
      "needs_background": "light"
     },
     "output_type": "display_data"
    }
   ],
   "source": [
    "sns.countplot(x='sex',hue='Target',data=df)\n",
    "print(df.groupby('sex')['Target'].value_counts())"
   ]
  },
  {
   "cell_type": "code",
   "execution_count": 330,
   "metadata": {},
   "outputs": [
    {
     "name": "stdout",
     "output_type": "stream",
     "text": [
      "fbs  Target\n",
      "0    0         37\n",
      "     1         34\n",
      "     2         28\n",
      "     3         27\n",
      "     4          6\n",
      "1    1         22\n",
      "     3         15\n",
      "     0         14\n",
      "     2         13\n",
      "     4          4\n",
      "Name: Target, dtype: int64\n"
     ]
    },
    {
     "data": {
      "image/png": "[encoded data removed]",
      "text/plain": [
       "<Figure size 432x288 with 1 Axes>"
      ]
     },
     "metadata": {
      "needs_background": "light"
     },
     "output_type": "display_data"
    }
   ],
   "source": [
    "sns.countplot(x='fbs',hue='Target',data=df)\n",
    "print(df.groupby('fbs')['Target'].value_counts())"
   ]
  },
  {
   "cell_type": "code",
   "execution_count": 331,
   "metadata": {},
   "outputs": [
    {
     "name": "stdout",
     "output_type": "stream",
     "text": [
      "exang  Target\n",
      "0      0         20\n",
      "       1         15\n",
      "       2         10\n",
      "       3          6\n",
      "       4          1\n",
      "1      1         41\n",
      "       3         36\n",
      "       0         31\n",
      "       2         31\n",
      "       4          9\n",
      "Name: Target, dtype: int64\n"
     ]
    },
    {
     "data": {
      "image/png": "[encoded data removed]",
      "text/plain": [
       "<Figure size 432x288 with 1 Axes>"
      ]
     },
     "metadata": {
      "needs_background": "light"
     },
     "output_type": "display_data"
    }
   ],
   "source": [
    "sns.countplot(x='exang',hue='Target',data=df)\n",
    "print(df.groupby('exang')['Target'].value_counts())"
   ]
  },
  {
   "cell_type": "code",
   "execution_count": 332,
   "metadata": {},
   "outputs": [
    {
     "name": "stdout",
     "output_type": "stream",
     "text": [
      "slope  Target\n",
      "1      1          5\n",
      "       3          5\n",
      "       0          3\n",
      "       2          3\n",
      "2      0         45\n",
      "       1         45\n",
      "       3         31\n",
      "       2         29\n",
      "       4          5\n",
      "3      2          9\n",
      "       1          6\n",
      "       3          6\n",
      "       4          5\n",
      "       0          3\n",
      "Name: Target, dtype: int64\n"
     ]
    },
    {
     "data": {
      "image/png": "[encoded data removed]",
      "text/plain": [
       "<Figure size 432x288 with 1 Axes>"
      ]
     },
     "metadata": {
      "needs_background": "light"
     },
     "output_type": "display_data"
    }
   ],
   "source": [
    "sns.countplot(x='slope',hue='Target',data=df)\n",
    "print(df.groupby('slope')['Target'].value_counts())"
   ]
  },
  {
   "cell_type": "markdown",
   "metadata": {},
   "source": [
    "# Outlier Detection "
   ]
  },
  {
   "cell_type": "code",
   "execution_count": 333,
   "metadata": {},
   "outputs": [
    {
     "data": {
      "image/png": "[encoded data removed]",
      "text/plain": [
       "<Figure size 432x288 with 1 Axes>"
      ]
     },
     "metadata": {
      "needs_background": "light"
     },
     "output_type": "display_data"
    },
    {
     "data": {
      "image/png": "[encoded data removed]",
      "text/plain": [
       "<Figure size 432x288 with 1 Axes>"
      ]
     },
     "metadata": {
      "needs_background": "light"
     },
     "output_type": "display_data"
    },
    {
     "data": {
      "image/png": "[encoded data removed]",
      "text/plain": [
       "<Figure size 432x288 with 1 Axes>"
      ]
     },
     "metadata": {
      "needs_background": "light"
     },
     "output_type": "display_data"
    },
    {
     "data": {
      "image/png": "[encoded data removed]",
      "text/plain": [
       "<Figure size 432x288 with 1 Axes>"
      ]
     },
     "metadata": {
      "needs_background": "light"
     },
     "output_type": "display_data"
    },
    {
     "data": {
      "image/png": "[encoded data removed]",
      "text/plain": [
       "<Figure size 432x288 with 1 Axes>"
      ]
     },
     "metadata": {
      "needs_background": "light"
     },
     "output_type": "display_data"
    },
    {
     "data": {
      "image/png": "[encoded data removed]",
      "text/plain": [
       "<Figure size 432x288 with 1 Axes>"
      ]
     },
     "metadata": {
      "needs_background": "light"
     },
     "output_type": "display_data"
    },
    {
     "data": {
      "image/png": "[encoded data removed]",
      "text/plain": [
       "<Figure size 432x288 with 1 Axes>"
      ]
     },
     "metadata": {
      "needs_background": "light"
     },
     "output_type": "display_data"
    },
    {
     "data": {
      "image/png": "[encoded data removed]",
      "text/plain": [
       "<Figure size 432x288 with 1 Axes>"
      ]
     },
     "metadata": {
      "needs_background": "light"
     },
     "output_type": "display_data"
    },
    {
     "data": {
      "image/png": "[encoded data removed]",
      "text/plain": [
       "<Figure size 432x288 with 1 Axes>"
      ]
     },
     "metadata": {
      "needs_background": "light"
     },
     "output_type": "display_data"
    },
    {
     "data": {
      "image/png": "[encoded data removed]",
      "text/plain": [
       "<Figure size 432x288 with 1 Axes>"
      ]
     },
     "metadata": {
      "needs_background": "light"
     },
     "output_type": "display_data"
    },
    {
     "data": {
      "image/png": "[encoded data removed]",
      "text/plain": [
       "<Figure size 432x288 with 1 Axes>"
      ]
     },
     "metadata": {
      "needs_background": "light"
     },
     "output_type": "display_data"
    },
    {
     "data": {
      "image/png": "[encoded data removed]",
      "text/plain": [
       "<Figure size 432x288 with 1 Axes>"
      ]
     },
     "metadata": {
      "needs_background": "light"
     },
     "output_type": "display_data"
    }
   ],
   "source": [
    "for column in df:\n",
    "    plt.figure()\n",
    "    df.boxplot([column])"
   ]
  },
  {
   "cell_type": "code",
   "execution_count": 334,
   "metadata": {},
   "outputs": [
    {
     "data": {
      "text/plain": [
       "<matplotlib.axes._subplots.AxesSubplot at 0x7f870d0b4df0>"
      ]
     },
     "execution_count": 334,
     "metadata": {},
     "output_type": "execute_result"
    },
    {
     "data": {
      "image/png": "[encoded data removed]",
      "text/plain": [
       "<Figure size 432x288 with 1 Axes>"
      ]
     },
     "metadata": {
      "needs_background": "light"
     },
     "output_type": "display_data"
    }
   ],
   "source": [
    "df.plot(kind='box')"
   ]
  },
  {
   "cell_type": "markdown",
   "metadata": {},
   "source": [
    "From above two graphs we can observe that there are some outliers present in the data."
   ]
  },
  {
   "cell_type": "code",
   "execution_count": 335,
   "metadata": {},
   "outputs": [
    {
     "name": "stdout",
     "output_type": "stream",
     "text": [
      "(200, 12)\n",
      "(181, 12)\n"
     ]
    }
   ],
   "source": [
    "#removing outliers\n",
    "from scipy.stats import zscore\n",
    "\n",
    "z=np.abs(zscore(df))\n",
    "print(df.shape)\n",
    "df=df.loc[(z<3).all(axis=1)]\n",
    "print(df.shape)"
   ]
  },
  {
   "cell_type": "code",
   "execution_count": 336,
   "metadata": {},
   "outputs": [
    {
     "data": {
      "text/plain": [
       "age        -0.341400\n",
       "sex         0.000000\n",
       "cp         -1.414098\n",
       "trestbps    0.698089\n",
       "chol       -0.580544\n",
       "fbs         0.748785\n",
       "restecg     0.386145\n",
       "thalach     0.058124\n",
       "exang      -1.207866\n",
       "oldpeak     0.291281\n",
       "slope       0.273012\n",
       "Target      0.274859\n",
       "dtype: float64"
      ]
     },
     "execution_count": 336,
     "metadata": {},
     "output_type": "execute_result"
    }
   ],
   "source": [
    "# Checking for Skewness\n",
    "df.skew()"
   ]
  },
  {
   "cell_type": "code",
   "execution_count": 337,
   "metadata": {},
   "outputs": [],
   "source": [
    "#removing skewness\n",
    "for col in df.skew().index:\n",
    "    if col in df.describe().columns:\n",
    "        if df[col].skew()>0.55:\n",
    "            df[col]=np.log1p(df[col])\n",
    "        if df[col].skew()<-0.55:\n",
    "            df[col]=np.log1p(df[col])"
   ]
  },
  {
   "cell_type": "code",
   "execution_count": 338,
   "metadata": {},
   "outputs": [
    {
     "data": {
      "text/plain": [
       "age        -0.341400\n",
       "sex         0.000000\n",
       "cp         -1.656362\n",
       "trestbps    0.302934\n",
       "chol       -1.152266\n",
       "fbs         0.748785\n",
       "restecg     0.386145\n",
       "thalach     0.058124\n",
       "exang      -1.207866\n",
       "oldpeak     0.291281\n",
       "slope       0.273012\n",
       "Target      0.274859\n",
       "dtype: float64"
      ]
     },
     "execution_count": 338,
     "metadata": {},
     "output_type": "execute_result"
    }
   ],
   "source": [
    "df.skew()"
   ]
  },
  {
   "cell_type": "markdown",
   "metadata": {},
   "source": [
    "Assigning Train and Test data to X and Y variables"
   ]
  },
  {
   "cell_type": "code",
   "execution_count": 339,
   "metadata": {},
   "outputs": [
    {
     "data": {
      "text/plain": [
       "array([[63.        ,  1.        ,  1.60943791, ...,  0.69314718,\n",
       "         3.        ,  2.        ],\n",
       "       [44.        ,  1.        ,  1.60943791, ...,  0.        ,\n",
       "         0.        ,  2.        ],\n",
       "       [60.        ,  1.        ,  1.60943791, ...,  0.69314718,\n",
       "         1.5       ,  3.        ],\n",
       "       ...,\n",
       "       [55.        ,  1.        ,  1.60943791, ...,  0.        ,\n",
       "         0.        ,  2.        ],\n",
       "       [58.        ,  1.        ,  1.60943791, ...,  0.69314718,\n",
       "         1.5       ,  2.        ],\n",
       "       [62.        ,  1.        ,  1.09861229, ...,  0.69314718,\n",
       "         0.        ,  2.        ]])"
      ]
     },
     "execution_count": 339,
     "metadata": {},
     "output_type": "execute_result"
    }
   ],
   "source": [
    "x=df.iloc[:,:-1].values\n",
    "x"
   ]
  },
  {
   "cell_type": "code",
   "execution_count": 340,
   "metadata": {},
   "outputs": [
    {
     "data": {
      "text/plain": [
       "array([2, 0, 2, 1, 0, 0, 3, 0, 3, 1, 0, 1, 1, 1, 1, 0, 4, 1, 0, 0, 2, 1,\n",
       "       3, 0, 2, 2, 1, 1, 3, 3, 3, 3, 2, 3, 2, 0, 1, 0, 3, 1, 3, 0, 4, 2,\n",
       "       1, 0, 2, 0, 1, 2, 0, 1, 2, 2, 3, 0, 1, 0, 2, 1, 4, 2, 2, 1, 1, 1,\n",
       "       2, 3, 3, 1, 3, 2, 0, 2, 2, 2, 4, 2, 3, 0, 1, 1, 3, 0, 3, 1, 0, 3,\n",
       "       1, 0, 1, 3, 1, 1, 0, 3, 1, 1, 0, 0, 3, 0, 3, 1, 1, 3, 2, 2, 3, 1,\n",
       "       2, 3, 1, 0, 1, 4, 2, 0, 1, 1, 3, 0, 3, 0, 2, 0, 4, 2, 4, 0, 0, 0,\n",
       "       1, 3, 3, 0, 3, 1, 1, 2, 2, 2, 2, 2, 1, 4, 3, 3, 3, 1, 3, 2, 0, 2,\n",
       "       1, 1, 0, 3, 1, 0, 0, 2, 3, 1, 1, 0, 1, 1, 0, 1, 3, 2, 2, 0, 4, 3,\n",
       "       1, 2, 2, 0, 1])"
      ]
     },
     "execution_count": 340,
     "metadata": {},
     "output_type": "execute_result"
    }
   ],
   "source": [
    "y=df.iloc[:,-1].values\n",
    "y"
   ]
  },
  {
   "cell_type": "code",
   "execution_count": 341,
   "metadata": {},
   "outputs": [
    {
     "name": "stdout",
     "output_type": "stream",
     "text": [
      "(181, 11) (181,)\n"
     ]
    }
   ],
   "source": [
    "print(x.shape,y.shape)"
   ]
  },
  {
   "cell_type": "markdown",
   "metadata": {},
   "source": [
    "Using Standard Scaler:\n",
    "To bring all the values at the same scale"
   ]
  },
  {
   "cell_type": "code",
   "execution_count": 342,
   "metadata": {},
   "outputs": [],
   "source": [
    "from sklearn.preprocessing import StandardScaler\n",
    "ss=StandardScaler()\n",
    "x=ss.fit_transform(x)"
   ]
  },
  {
   "cell_type": "markdown",
   "metadata": {},
   "source": [
    "# Train and Test Split"
   ]
  },
  {
   "cell_type": "code",
   "execution_count": 343,
   "metadata": {},
   "outputs": [],
   "source": [
    "from sklearn.model_selection import train_test_split\n",
    "x_train,x_test,y_train,y_test=train_test_split(x,y,test_size=0.3,random_state=40,stratify=y)"
   ]
  },
  {
   "cell_type": "code",
   "execution_count": 344,
   "metadata": {},
   "outputs": [
    {
     "name": "stdout",
     "output_type": "stream",
     "text": [
      "(126, 11) (55, 11)\n"
     ]
    }
   ],
   "source": [
    "print(x_train.shape,x_test.shape)"
   ]
  },
  {
   "cell_type": "code",
   "execution_count": 345,
   "metadata": {},
   "outputs": [
    {
     "name": "stdout",
     "output_type": "stream",
     "text": [
      "(126,) (55,)\n"
     ]
    }
   ],
   "source": [
    "print(y_train.shape,y_test.shape)"
   ]
  },
  {
   "cell_type": "markdown",
   "metadata": {},
   "source": [
    "# Model Selection"
   ]
  },
  {
   "cell_type": "code",
   "execution_count": 346,
   "metadata": {},
   "outputs": [],
   "source": [
    "from sklearn.naive_bayes import GaussianNB\n",
    "from sklearn.svm import SVC\n",
    "from sklearn.tree import DecisionTreeClassifier\n",
    "from sklearn.neighbors import KNeighborsClassifier\n",
    "\n",
    "#importing error metrics\n",
    "from sklearn.model_selection import GridSearchCV,cross_val_score\n",
    "from sklearn.metrics import classification_report,confusion_matrix,accuracy_score"
   ]
  },
  {
   "cell_type": "code",
   "execution_count": 347,
   "metadata": {},
   "outputs": [
    {
     "name": "stdout",
     "output_type": "stream",
     "text": [
      "{'n_neighbors': 24}\n"
     ]
    }
   ],
   "source": [
    "parameters={'n_neighbors':range(22,25)}\n",
    "knn=KNeighborsClassifier()\n",
    "clf=GridSearchCV(knn,parameters)\n",
    "clf.fit(x,y)\n",
    "print(clf.best_params_)"
   ]
  },
  {
   "cell_type": "code",
   "execution_count": 348,
   "metadata": {},
   "outputs": [],
   "source": [
    "KNN=KNeighborsClassifier(n_neighbors=24)"
   ]
  },
  {
   "cell_type": "code",
   "execution_count": 349,
   "metadata": {},
   "outputs": [
    {
     "name": "stdout",
     "output_type": "stream",
     "text": [
      "Accuracy Score of GaussianNB() is:\n",
      "0.21818181818181817\n",
      "[[3 2 2 5 1]\n",
      " [6 4 0 6 0]\n",
      " [2 2 1 6 1]\n",
      " [1 1 4 4 1]\n",
      " [0 1 1 1 0]]\n",
      "              precision    recall  f1-score   support\n",
      "\n",
      "           0       0.25      0.23      0.24        13\n",
      "           1       0.40      0.25      0.31        16\n",
      "           2       0.12      0.08      0.10        12\n",
      "           3       0.18      0.36      0.24        11\n",
      "           4       0.00      0.00      0.00         3\n",
      "\n",
      "    accuracy                           0.22        55\n",
      "   macro avg       0.19      0.19      0.18        55\n",
      "weighted avg       0.24      0.22      0.22        55\n",
      "\n",
      "*************************************************************************\n",
      "\n",
      "\n",
      "Accuracy Score of SVC() is:\n",
      "0.3090909090909091\n",
      "[[ 2  9  1  1  0]\n",
      " [ 4 10  1  1  0]\n",
      " [ 2  3  4  3  0]\n",
      " [ 2  4  4  1  0]\n",
      " [ 0  2  0  1  0]]\n",
      "              precision    recall  f1-score   support\n",
      "\n",
      "           0       0.20      0.15      0.17        13\n",
      "           1       0.36      0.62      0.45        16\n",
      "           2       0.40      0.33      0.36        12\n",
      "           3       0.14      0.09      0.11        11\n",
      "           4       0.00      0.00      0.00         3\n",
      "\n",
      "    accuracy                           0.31        55\n",
      "   macro avg       0.22      0.24      0.22        55\n",
      "weighted avg       0.27      0.31      0.27        55\n",
      "\n",
      "*************************************************************************\n",
      "\n",
      "\n",
      "Accuracy Score of KNeighborsClassifier(n_neighbors=24) is:\n",
      "0.2545454545454545\n",
      "[[3 6 4 0 0]\n",
      " [3 8 0 5 0]\n",
      " [2 3 2 5 0]\n",
      " [0 8 2 1 0]\n",
      " [0 0 3 0 0]]\n",
      "              precision    recall  f1-score   support\n",
      "\n",
      "           0       0.38      0.23      0.29        13\n",
      "           1       0.32      0.50      0.39        16\n",
      "           2       0.18      0.17      0.17        12\n",
      "           3       0.09      0.09      0.09        11\n",
      "           4       0.00      0.00      0.00         3\n",
      "\n",
      "    accuracy                           0.25        55\n",
      "   macro avg       0.19      0.20      0.19        55\n",
      "weighted avg       0.24      0.25      0.24        55\n",
      "\n",
      "*************************************************************************\n",
      "\n",
      "\n",
      "Accuracy Score of DecisionTreeClassifier() is:\n",
      "0.21818181818181817\n",
      "[[3 3 4 3 0]\n",
      " [7 1 6 2 0]\n",
      " [2 4 3 2 1]\n",
      " [4 2 2 3 0]\n",
      " [0 1 0 0 2]]\n",
      "              precision    recall  f1-score   support\n",
      "\n",
      "           0       0.19      0.23      0.21        13\n",
      "           1       0.09      0.06      0.07        16\n",
      "           2       0.20      0.25      0.22        12\n",
      "           3       0.30      0.27      0.29        11\n",
      "           4       0.67      0.67      0.67         3\n",
      "\n",
      "    accuracy                           0.22        55\n",
      "   macro avg       0.29      0.30      0.29        55\n",
      "weighted avg       0.21      0.22      0.21        55\n",
      "\n",
      "*************************************************************************\n",
      "\n",
      "\n"
     ]
    }
   ],
   "source": [
    "model=[GaussianNB(),SVC(),KNN,DecisionTreeClassifier()]\n",
    "\n",
    "\n",
    "for m in model:\n",
    "    m.fit(x_train,y_train)\n",
    "    m.score(x_train,y_train)\n",
    "    predm=m.predict(x_test)\n",
    "    print(\"Accuracy Score of\",m,'is:')\n",
    "    print(accuracy_score(y_test,predm))\n",
    "    print(confusion_matrix(y_test,predm))\n",
    "    print(classification_report(y_test,predm))\n",
    "    print('*************************************************************************')\n",
    "    print('\\n')"
   ]
  },
  {
   "cell_type": "code",
   "execution_count": 351,
   "metadata": {},
   "outputs": [
    {
     "name": "stdout",
     "output_type": "stream",
     "text": [
      "Model: GaussianNB()\n",
      "Score: [0.21052632 0.27777778 0.33333333 0.22222222 0.38888889 0.16666667\n",
      " 0.33333333 0.5        0.27777778 0.16666667]\n",
      "Mean Score: 0.287719298245614\n",
      "Standard Deviation  0.09960594018085431\n",
      "*************************************************************************\n",
      "\n",
      "\n",
      "Model: SVC()\n",
      "Score: [0.31578947 0.44444444 0.38888889 0.27777778 0.44444444 0.33333333\n",
      " 0.38888889 0.44444444 0.5        0.27777778]\n",
      "Mean Score: 0.3815789473684211\n",
      "Standard Deviation  0.07361513981669944\n",
      "*************************************************************************\n",
      "\n",
      "\n",
      "Model: KNeighborsClassifier(n_neighbors=24)\n",
      "Score: [0.31578947 0.38888889 0.27777778 0.33333333 0.44444444 0.27777778\n",
      " 0.44444444 0.38888889 0.27777778 0.27777778]\n",
      "Mean Score: 0.34269005847953216\n",
      "Standard Deviation  0.06530098046735813\n",
      "*************************************************************************\n",
      "\n",
      "\n",
      "Model: DecisionTreeClassifier()\n",
      "Score: [0.26315789 0.11111111 0.61111111 0.22222222 0.38888889 0.33333333\n",
      " 0.5        0.33333333 0.5        0.22222222]\n",
      "Mean Score: 0.3485380116959064\n",
      "Standard Deviation  0.1457701316974755\n",
      "*************************************************************************\n",
      "\n",
      "\n"
     ]
    }
   ],
   "source": [
    "models=[GaussianNB(),SVC(),KNN,DecisionTreeClassifier()]\n",
    "for m in models:\n",
    "    score=cross_val_score(m,x,y,cv=10,scoring='accuracy')\n",
    "    print(\"Model:\",m)\n",
    "    print('Score:',score)\n",
    "    print('Mean Score:',score.mean())\n",
    "    print('Standard Deviation ',score.std())\n",
    "    print('*************************************************************************')\n",
    "    print('\\n')"
   ]
  },
  {
   "cell_type": "code",
   "execution_count": 352,
   "metadata": {},
   "outputs": [],
   "source": [
    "from sklearn.ensemble import RandomForestClassifier\n",
    "from sklearn.ensemble import AdaBoostClassifier\n",
    "from sklearn.ensemble import GradientBoostingClassifier\n",
    "from sklearn.ensemble import BaggingClassifier\n",
    "from sklearn.ensemble import ExtraTreesClassifier"
   ]
  },
  {
   "cell_type": "code",
   "execution_count": 353,
   "metadata": {},
   "outputs": [
    {
     "name": "stdout",
     "output_type": "stream",
     "text": [
      "Accuracy Score of RandomForestClassifier() is:\n",
      "0.2\n",
      "[[4 4 4 1 0]\n",
      " [7 4 4 1 0]\n",
      " [4 3 1 4 0]\n",
      " [3 3 3 2 0]\n",
      " [0 1 1 1 0]]\n",
      "              precision    recall  f1-score   support\n",
      "\n",
      "           0       0.22      0.31      0.26        13\n",
      "           1       0.27      0.25      0.26        16\n",
      "           2       0.08      0.08      0.08        12\n",
      "           3       0.22      0.18      0.20        11\n",
      "           4       0.00      0.00      0.00         3\n",
      "\n",
      "    accuracy                           0.20        55\n",
      "   macro avg       0.16      0.16      0.16        55\n",
      "weighted avg       0.19      0.20      0.19        55\n",
      "\n",
      "\n",
      "\n",
      "Accuracy Score of AdaBoostClassifier() is:\n",
      "0.3090909090909091\n",
      "[[6 0 6 1 0]\n",
      " [5 4 5 2 0]\n",
      " [0 2 7 3 0]\n",
      " [4 2 5 0 0]\n",
      " [0 1 0 2 0]]\n",
      "              precision    recall  f1-score   support\n",
      "\n",
      "           0       0.40      0.46      0.43        13\n",
      "           1       0.44      0.25      0.32        16\n",
      "           2       0.30      0.58      0.40        12\n",
      "           3       0.00      0.00      0.00        11\n",
      "           4       0.00      0.00      0.00         3\n",
      "\n",
      "    accuracy                           0.31        55\n",
      "   macro avg       0.23      0.26      0.23        55\n",
      "weighted avg       0.29      0.31      0.28        55\n",
      "\n",
      "\n",
      "\n",
      "Accuracy Score of GradientBoostingClassifier() is:\n",
      "0.34545454545454546\n",
      "[[5 3 2 3 0]\n",
      " [5 5 3 3 0]\n",
      " [1 3 5 3 0]\n",
      " [2 2 3 4 0]\n",
      " [0 1 0 2 0]]\n",
      "              precision    recall  f1-score   support\n",
      "\n",
      "           0       0.38      0.38      0.38        13\n",
      "           1       0.36      0.31      0.33        16\n",
      "           2       0.38      0.42      0.40        12\n",
      "           3       0.27      0.36      0.31        11\n",
      "           4       0.00      0.00      0.00         3\n",
      "\n",
      "    accuracy                           0.35        55\n",
      "   macro avg       0.28      0.30      0.29        55\n",
      "weighted avg       0.33      0.35      0.34        55\n",
      "\n",
      "\n",
      "\n",
      "Accuracy Score of BaggingClassifier() is:\n",
      "0.21818181818181817\n",
      "[[ 6  5  1  1  0]\n",
      " [10  2  2  2  0]\n",
      " [ 7  1  2  2  0]\n",
      " [ 2  3  3  2  1]\n",
      " [ 0  1  0  2  0]]\n",
      "              precision    recall  f1-score   support\n",
      "\n",
      "           0       0.24      0.46      0.32        13\n",
      "           1       0.17      0.12      0.14        16\n",
      "           2       0.25      0.17      0.20        12\n",
      "           3       0.22      0.18      0.20        11\n",
      "           4       0.00      0.00      0.00         3\n",
      "\n",
      "    accuracy                           0.22        55\n",
      "   macro avg       0.18      0.19      0.17        55\n",
      "weighted avg       0.20      0.22      0.20        55\n",
      "\n",
      "\n",
      "\n",
      "Accuracy Score of ExtraTreesClassifier() is:\n",
      "0.2\n",
      "[[4 2 4 3 0]\n",
      " [9 2 3 2 0]\n",
      " [2 3 4 3 0]\n",
      " [2 3 5 1 0]\n",
      " [0 1 1 1 0]]\n",
      "              precision    recall  f1-score   support\n",
      "\n",
      "           0       0.24      0.31      0.27        13\n",
      "           1       0.18      0.12      0.15        16\n",
      "           2       0.24      0.33      0.28        12\n",
      "           3       0.10      0.09      0.10        11\n",
      "           4       0.00      0.00      0.00         3\n",
      "\n",
      "    accuracy                           0.20        55\n",
      "   macro avg       0.15      0.17      0.16        55\n",
      "weighted avg       0.18      0.20      0.19        55\n",
      "\n",
      "\n",
      "\n"
     ]
    }
   ],
   "source": [
    "model=[RandomForestClassifier(),AdaBoostClassifier(),GradientBoostingClassifier(),BaggingClassifier(),ExtraTreesClassifier()]\n",
    "\n",
    "\n",
    "for m in model:\n",
    "    m.fit(x_train,y_train)\n",
    "    m.score(x_train,y_train)\n",
    "    predm=m.predict(x_test)\n",
    "    print(\"Accuracy Score of\",m,'is:')\n",
    "    print(accuracy_score(y_test,predm))\n",
    "    print(confusion_matrix(y_test,predm))\n",
    "    print(classification_report(y_test,predm))\n",
    "    print('\\n')"
   ]
  },
  {
   "cell_type": "code",
   "execution_count": 354,
   "metadata": {},
   "outputs": [
    {
     "name": "stdout",
     "output_type": "stream",
     "text": [
      "0.2\n",
      "[[4 2 4 3 0]\n",
      " [9 2 3 2 0]\n",
      " [2 3 4 3 0]\n",
      " [2 3 5 1 0]\n",
      " [0 1 1 1 0]]\n",
      "              precision    recall  f1-score   support\n",
      "\n",
      "           0       0.24      0.31      0.27        13\n",
      "           1       0.18      0.12      0.15        16\n",
      "           2       0.24      0.33      0.28        12\n",
      "           3       0.10      0.09      0.10        11\n",
      "           4       0.00      0.00      0.00         3\n",
      "\n",
      "    accuracy                           0.20        55\n",
      "   macro avg       0.15      0.17      0.16        55\n",
      "weighted avg       0.18      0.20      0.19        55\n",
      "\n"
     ]
    }
   ],
   "source": [
    "gbc=GradientBoostingClassifier()\n",
    "gbc.fit(x_train,y_train)\n",
    "gbc.score(x_train,y_train)\n",
    "predgbc=gbc.predict(x_test)\n",
    "print(accuracy_score(y_test,predm))\n",
    "print(confusion_matrix(y_test,predm))\n",
    "print(classification_report(y_test,predm))"
   ]
  },
  {
   "cell_type": "code",
   "execution_count": 355,
   "metadata": {},
   "outputs": [
    {
     "data": {
      "text/plain": [
       "['heartdisease.pkl']"
      ]
     },
     "execution_count": 355,
     "metadata": {},
     "output_type": "execute_result"
    }
   ],
   "source": [
    "import joblib\n",
    "joblib.dump(gbc,'heartdisease.pkl')"
   ]
  },
  {
   "cell_type": "code",
   "execution_count": null,
   "metadata": {},
   "outputs": [],
   "source": []
  }
 ],
 "metadata": {
  "kernelspec": {
   "display_name": "Python 3",
   "language": "python",
   "name": "python3"
  },
  "language_info": {
   "codemirror_mode": {
    "name": "ipython",
    "version": 3
   },
   "file_extension": ".py",
   "mimetype": "text/x-python",
   "name": "python",
   "nbconvert_exporter": "python",
   "pygments_lexer": "ipython3",
   "version": "3.8.3"
  }
 },
 "nbformat": 4,
 "nbformat_minor": 4
}
